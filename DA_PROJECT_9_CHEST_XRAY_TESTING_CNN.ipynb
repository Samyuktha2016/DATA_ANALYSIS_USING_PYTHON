{
  "nbformat": 4,
  "nbformat_minor": 0,
  "metadata": {
    "colab": {
      "provenance": []
    },
    "kernelspec": {
      "name": "python3",
      "display_name": "Python 3"
    },
    "language_info": {
      "name": "python"
    }
  },
  "cells": [
    {
      "cell_type": "code",
      "execution_count": null,
      "metadata": {
        "id": "WM8QONLK_tSA"
      },
      "outputs": [],
      "source": [
        "from tensorflow.keras.models import load_model\n",
        "from tensorflow.keras.preprocessing import image\n",
        "import numpy as np"
      ]
    },
    {
      "cell_type": "code",
      "source": [
        "#load the saved model\n",
        "model=load_model('/content/Chest_x-ray_images (1).h5')"
      ],
      "metadata": {
        "id": "-mOX1F25Trn7"
      },
      "execution_count": null,
      "outputs": []
    },
    {
      "cell_type": "code",
      "source": [
        "#load the preprocess the test image\n",
        "test_image_path=('/content/person5_bacteria_15.jpeg')\n",
        "img = image.load_img(test_image_path, target_size=(224, 224))\n",
        "img_array = image.img_to_array(img)\n",
        "img_array = np.expand_dims(img_array, axis=0)"
      ],
      "metadata": {
        "id": "WwJSqg2QTvjh"
      },
      "execution_count": null,
      "outputs": []
    },
    {
      "cell_type": "code",
      "source": [
        "#add batch dimension\n",
        "img_array/=255.#normalize the pixel values\n",
        "#make prediction\n",
        "prediction=model.predict(img_array)\n",
        "#print the prediction\n",
        "print(prediction)"
      ],
      "metadata": {
        "colab": {
          "base_uri": "https://localhost:8080/"
        },
        "id": "CxFL9027UGks",
        "outputId": "9ffbff8b-d474-479b-e9fc-5263da557acb"
      },
      "execution_count": null,
      "outputs": [
        {
          "output_type": "stream",
          "name": "stdout",
          "text": [
            "1/1 [==============================] - 0s 89ms/step\n",
            "[[1.]]\n"
          ]
        }
      ]
    },
    {
      "cell_type": "code",
      "source": [
        "if prediction<0.5:\n",
        "  print(\"prediction:he is Normal(Orobability:\",prediction[0][0])\n",
        "else:\n",
        "    print(\"prediction:he is feeling with Pneumonia(probability:\",prediction[0][0])"
      ],
      "metadata": {
        "colab": {
          "base_uri": "https://localhost:8080/"
        },
        "id": "QFYHe_XQUKiY",
        "outputId": "e91b6b80-bc4b-4533-c441-8d28fc8bb0e2"
      },
      "execution_count": null,
      "outputs": [
        {
          "output_type": "stream",
          "name": "stdout",
          "text": [
            "prediction:he is feeling with Pneumonia(probability: 1.0\n"
          ]
        }
      ]
    },
    {
      "cell_type": "code",
      "source": [
        "#load the preprocess the test image\n",
        "test_image_path=('/content/IM-0140-0001.jpeg')\n",
        "img = image.load_img(test_image_path, target_size=(224, 224))\n",
        "img_array = image.img_to_array(img)\n",
        "img_array = np.expand_dims(img_array, axis=0)"
      ],
      "metadata": {
        "id": "1mve9QymUNJ7"
      },
      "execution_count": null,
      "outputs": []
    },
    {
      "cell_type": "code",
      "source": [
        "#add batch dimension\n",
        "img_array/=255.#normalize the pixel values\n",
        "#make prediction\n",
        "prediction=model.predict(img_array)\n",
        "#print the prediction\n",
        "print(prediction)#add batch dimension\n"
      ],
      "metadata": {
        "colab": {
          "base_uri": "https://localhost:8080/"
        },
        "id": "_-WXbO3LUhSG",
        "outputId": "41e8803e-41c5-4593-f114-0c637913ac73"
      },
      "execution_count": null,
      "outputs": [
        {
          "output_type": "stream",
          "name": "stdout",
          "text": [
            "1/1 [==============================] - 0s 68ms/step\n",
            "[[0.18563159]]\n"
          ]
        }
      ]
    },
    {
      "cell_type": "code",
      "source": [
        "if prediction<0.5:\n",
        "  print(\"prediction:he is Normal(Orobability:\",prediction[0][0])\n",
        "else:\n",
        "    print(\"prediction:he is feeling with Pneumonia(probability:\",prediction[0][0])"
      ],
      "metadata": {
        "colab": {
          "base_uri": "https://localhost:8080/"
        },
        "id": "4IIA1DWRUka7",
        "outputId": "4ca72f06-62e9-4054-8c34-31456dfc5dd3"
      },
      "execution_count": null,
      "outputs": [
        {
          "output_type": "stream",
          "name": "stdout",
          "text": [
            "prediction:he is Normal(Orobability: 0.18563159\n"
          ]
        }
      ]
    },
    {
      "cell_type": "code",
      "source": [
        "#load the preprocess the test image\n",
        "test_image_path=('/content/person18_virus_49.jpeg')\n",
        "img = image.load_img(test_image_path, target_size=(224, 224))\n",
        "img_array = image.img_to_array(img)\n",
        "img_array = np.expand_dims(img_array, axis=0)"
      ],
      "metadata": {
        "id": "lDRQdYJEUoZG"
      },
      "execution_count": null,
      "outputs": []
    },
    {
      "cell_type": "code",
      "source": [
        "#add batch dimension\n",
        "img_array/=255.#normalize the pixel values\n",
        "#make prediction\n",
        "prediction=model.predict(img_array)\n",
        "#print the prediction\n",
        "print(prediction)"
      ],
      "metadata": {
        "colab": {
          "base_uri": "https://localhost:8080/"
        },
        "id": "L8Ebki9hUz-X",
        "outputId": "85216317-a8f4-483f-8247-1db4ea3bf9ab"
      },
      "execution_count": null,
      "outputs": [
        {
          "output_type": "stream",
          "name": "stdout",
          "text": [
            "1/1 [==============================] - 0s 56ms/step\n",
            "[[0.9999766]]\n"
          ]
        }
      ]
    },
    {
      "cell_type": "code",
      "source": [
        "if prediction<0.5:\n",
        "  print(\"prediction:he is Normal\")\n",
        "else:\n",
        "    print(\"prediction:he is with Pneumonia\")"
      ],
      "metadata": {
        "colab": {
          "base_uri": "https://localhost:8080/"
        },
        "id": "fTsEiWfDVA3Y",
        "outputId": "45edaf9b-655a-4a66-ff5d-0340b31b8600"
      },
      "execution_count": null,
      "outputs": [
        {
          "output_type": "stream",
          "name": "stdout",
          "text": [
            "prediction:he is with Pneumonia\n"
          ]
        }
      ]
    },
    {
      "cell_type": "code",
      "source": [
        "#load the preprocess the test image\n",
        "test_image_path=('/content/IM-0035-0001.jpeg')\n",
        "img = image.load_img(test_image_path, target_size=(224, 224))\n",
        "img_array = image.img_to_array(img)\n",
        "img_array = np.expand_dims(img_array, axis=0)"
      ],
      "metadata": {
        "id": "FIvaAXBJV4wB"
      },
      "execution_count": null,
      "outputs": []
    },
    {
      "cell_type": "code",
      "source": [
        "#add batch dimension\n",
        "img_array/=255.#normalize the pixel values\n",
        "#make prediction\n",
        "prediction=model.predict(img_array)\n",
        "#print the prediction\n",
        "print(prediction)"
      ],
      "metadata": {
        "colab": {
          "base_uri": "https://localhost:8080/"
        },
        "id": "KsHwznB_W8-i",
        "outputId": "2484cb7a-d1ea-4db3-ce17-042a5b2f4530"
      },
      "execution_count": null,
      "outputs": [
        {
          "output_type": "stream",
          "name": "stdout",
          "text": [
            "1/1 [==============================] - 0s 59ms/step\n",
            "[[0.8715435]]\n"
          ]
        }
      ]
    },
    {
      "cell_type": "code",
      "source": [
        "if prediction<0.5:\n",
        "  print(\"prediction:he is Normal\")\n",
        "else:\n",
        "    print(\"prediction:he is with Pneumonia\")"
      ],
      "metadata": {
        "colab": {
          "base_uri": "https://localhost:8080/"
        },
        "id": "4aPjzzVCXIET",
        "outputId": "77d34881-8f50-4b9f-ed0c-f017aa47e5c1"
      },
      "execution_count": null,
      "outputs": [
        {
          "output_type": "stream",
          "name": "stdout",
          "text": [
            "prediction:he is with Pneumonia\n"
          ]
        }
      ]
    }
  ]
}