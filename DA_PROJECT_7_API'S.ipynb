{
  "nbformat": 4,
  "nbformat_minor": 0,
  "metadata": {
    "colab": {
      "provenance": []
    },
    "kernelspec": {
      "name": "python3",
      "display_name": "Python 3"
    },
    "language_info": {
      "name": "python"
    }
  },
  "cells": [
    {
      "cell_type": "code",
      "execution_count": null,
      "metadata": {
        "colab": {
          "base_uri": "https://localhost:8080/"
        },
        "id": "8Y2FA3eNrvTK",
        "outputId": "f204caef-2fec-49f9-8209-969d59a70785"
      },
      "outputs": [
        {
          "output_type": "stream",
          "name": "stdout",
          "text": [
            "{'tax_on_shipping': False, 'tax_rate': 9.375}\n"
          ]
        }
      ],
      "source": [
        "import requests\n",
        "\n",
        "url = \"https://sales-tax-calculator.p.rapidapi.com/rates\"\n",
        "\n",
        "payload = {\n",
        "\t\"city\": \"Menlo Park\",\n",
        "\t\"state\": \"CA\",\n",
        "\t\"street\": \"1 Hacker Way\",\n",
        "\t\"zip\": \"94025\"\n",
        "}\n",
        "headers = {\n",
        "\t\"content-type\": \"application/json\",\n",
        "\t\"X-RapidAPI-Key\": \"3ad8e23f79msh484ea2a34125cbcp1b5bd6jsn76c6a87c46e2\",\n",
        "\t\"X-RapidAPI-Host\": \"sales-tax-calculator.p.rapidapi.com\"\n",
        "}\n",
        "\n",
        "response = requests.post(url, json=payload, headers=headers)\n",
        "\n",
        "print(response.json())"
      ]
    }
  ]
}