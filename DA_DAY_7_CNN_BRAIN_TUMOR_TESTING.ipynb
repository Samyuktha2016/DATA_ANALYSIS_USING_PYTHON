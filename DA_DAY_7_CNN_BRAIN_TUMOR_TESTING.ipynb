{
  "nbformat": 4,
  "nbformat_minor": 0,
  "metadata": {
    "colab": {
      "provenance": []
    },
    "kernelspec": {
      "name": "python3",
      "display_name": "Python 3"
    },
    "language_info": {
      "name": "python"
    }
  },
  "cells": [
    {
      "cell_type": "code",
      "execution_count": null,
      "metadata": {
        "id": "QZLHUxRbeRgg"
      },
      "outputs": [],
      "source": [
        "from tensorflow.keras.models import load_model\n",
        "from tensorflow.keras.preprocessing import image\n",
        "import numpy as np"
      ]
    },
    {
      "cell_type": "code",
      "source": [
        "#load the saved model\n",
        "model=load_model('/content/Model (1).h5')"
      ],
      "metadata": {
        "id": "BswPCAZ8-9pN"
      },
      "execution_count": null,
      "outputs": []
    },
    {
      "cell_type": "code",
      "source": [
        "#load the preprocess the test image\n",
        "test_image_path=('/content/y3.jpg')\n",
        "img = image.load_img(test_image_path, target_size=(224, 224))\n",
        "img_array = image.img_to_array(img)\n",
        "img_array = np.expand_dims(img_array, axis=0)"
      ],
      "metadata": {
        "id": "o95YeFqfl7H5"
      },
      "execution_count": null,
      "outputs": []
    },
    {
      "cell_type": "code",
      "source": [
        "#add batch dimension\n",
        "img_array/=255.#normalize the pixel values\n",
        "#make prediction\n",
        "prediction=model.predict(img_array)\n",
        "#print the prediction\n",
        "print(prediction)"
      ],
      "metadata": {
        "colab": {
          "base_uri": "https://localhost:8080/"
        },
        "id": "PmWhk7e1mK_h",
        "outputId": "c188bab8-6e2d-4cc9-c331-73520617876c"
      },
      "execution_count": null,
      "outputs": [
        {
          "output_type": "stream",
          "name": "stdout",
          "text": [
            "1/1 [==============================] - 0s 290ms/step\n",
            "[[0.9999999]]\n"
          ]
        }
      ]
    },
    {
      "cell_type": "code",
      "source": [
        "if prediction<0.5:\n",
        "  print(\"prediction:No tumor(Orobability:\",prediction[0][0])\n",
        "else:\n",
        "    print(\"prediction:Tumor present(probability:\",prediction[0][0])"
      ],
      "metadata": {
        "colab": {
          "base_uri": "https://localhost:8080/"
        },
        "id": "XO1mZ0LlmPD9",
        "outputId": "ec87bbd0-d2d0-4ea7-a046-e531f72b65c0"
      },
      "execution_count": null,
      "outputs": [
        {
          "output_type": "stream",
          "name": "stdout",
          "text": [
            "prediction:Tumor present(probability: 0.9999999\n"
          ]
        }
      ]
    },
    {
      "cell_type": "code",
      "source": [
        "#load the preprocess the test image\n",
        "test_image_path=('/content/no8.jpg')\n",
        "img = image.load_img(test_image_path, target_size=(224, 224))\n",
        "img_array = image.img_to_array(img)\n",
        "img_array = np.expand_dims(img_array, axis=0)"
      ],
      "metadata": {
        "id": "BVA3tzNqmV0B"
      },
      "execution_count": null,
      "outputs": []
    },
    {
      "cell_type": "code",
      "source": [
        "#add batch dimension\n",
        "img_array/=255.#normalize the pixel values\n",
        "#make prediction\n",
        "prediction=model.predict(img_array)\n",
        "#print the prediction\n",
        "print(prediction)"
      ],
      "metadata": {
        "colab": {
          "base_uri": "https://localhost:8080/"
        },
        "id": "PJwGY6_Bmf6z",
        "outputId": "522638ad-7de7-485a-93d5-add929724bff"
      },
      "execution_count": null,
      "outputs": [
        {
          "output_type": "stream",
          "name": "stdout",
          "text": [
            "1/1 [==============================] - 0s 51ms/step\n",
            "[[0.00019493]]\n"
          ]
        }
      ]
    },
    {
      "cell_type": "code",
      "source": [
        "if prediction<0.5:\n",
        "  print(\"prediction:No tumor(Orobability:\",prediction[0][0])\n",
        "else:\n",
        "    print(\"prediction:Tumor present(probability:\",prediction[0][0])"
      ],
      "metadata": {
        "colab": {
          "base_uri": "https://localhost:8080/"
        },
        "id": "wcUrJ_2cmj4e",
        "outputId": "e40d0be2-6856-4220-c010-ad7d0c37b037"
      },
      "execution_count": null,
      "outputs": [
        {
          "output_type": "stream",
          "name": "stdout",
          "text": [
            "prediction:No tumor(Orobability: 0.00019492593\n"
          ]
        }
      ]
    },
    {
      "cell_type": "code",
      "source": [
        "#load the preprocess the test image\n",
        "test_image_path=('/content/pred14.jpg')\n",
        "img = image.load_img(test_image_path, target_size=(224, 224))\n",
        "img_array = image.img_to_array(img)\n",
        "img_array = np.expand_dims(img_array, axis=0)"
      ],
      "metadata": {
        "id": "mMzMPRvWmpx_"
      },
      "execution_count": null,
      "outputs": []
    },
    {
      "cell_type": "code",
      "source": [
        "#add batch dimension\n",
        "img_array/=255.#normalize the pixel values\n",
        "#make prediction\n",
        "prediction=model.predict(img_array)\n",
        "#print the prediction\n",
        "print(prediction)"
      ],
      "metadata": {
        "colab": {
          "base_uri": "https://localhost:8080/"
        },
        "id": "UihT20uNm5gn",
        "outputId": "b8e5b06d-bd08-4b6e-cef6-3480ef7dceea"
      },
      "execution_count": null,
      "outputs": [
        {
          "output_type": "stream",
          "name": "stdout",
          "text": [
            "1/1 [==============================] - 0s 52ms/step\n",
            "[[0.9999717]]\n"
          ]
        }
      ]
    },
    {
      "cell_type": "code",
      "source": [
        "if prediction<0.5:\n",
        "  print(\"prediction:No tumor\")\n",
        "else:\n",
        "    print(\"prediction:Tumor present\")"
      ],
      "metadata": {
        "colab": {
          "base_uri": "https://localhost:8080/"
        },
        "id": "qoRo7VKom9to",
        "outputId": "bca71636-7832-4150-9d20-77fde70be904"
      },
      "execution_count": null,
      "outputs": [
        {
          "output_type": "stream",
          "name": "stdout",
          "text": [
            "prediction:Tumor present\n"
          ]
        }
      ]
    }
  ]
}