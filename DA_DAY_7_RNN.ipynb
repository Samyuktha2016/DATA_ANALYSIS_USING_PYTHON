{
  "nbformat": 4,
  "nbformat_minor": 0,
  "metadata": {
    "colab": {
      "provenance": []
    },
    "kernelspec": {
      "name": "python3",
      "display_name": "Python 3"
    },
    "language_info": {
      "name": "python"
    }
  },
  "cells": [
    {
      "cell_type": "code",
      "execution_count": null,
      "metadata": {
        "id": "4qq0VPoJpnpB"
      },
      "outputs": [],
      "source": [
        "import numpy as np\n",
        "from keras.models import Sequential\n",
        "from keras.layers import SimpleRNN,Dense,Embedding\n",
        "from keras.preprocessing.text import Tokenizer\n",
        "from keras.preprocessing.sequence import pad_sequences\n",
        "from keras.utils import to_categorical"
      ]
    },
    {
      "cell_type": "code",
      "source": [
        "#Generating some examples sequential data\n",
        "sentences=['I love programs','I love python','I hate school','Recurrent Neural Networks are powerful']"
      ],
      "metadata": {
        "id": "RpvpGvr2pxre"
      },
      "execution_count": null,
      "outputs": []
    },
    {
      "cell_type": "code",
      "source": [
        "#Tokenizer the words\n",
        "tokenizer=Tokenizer()\n",
        "tokenizer.fit_on_texts(sentences)\n",
        "total_words=len(tokenizer.word_index)+1\n",
        "print(total_words)"
      ],
      "metadata": {
        "colab": {
          "base_uri": "https://localhost:8080/"
        },
        "id": "ZNXJeTVYp1C2",
        "outputId": "dacc3b46-7c47-4324-a541-e2ecb5f7e508"
      },
      "execution_count": null,
      "outputs": [
        {
          "output_type": "stream",
          "name": "stdout",
          "text": [
            "12\n"
          ]
        }
      ]
    },
    {
      "cell_type": "code",
      "source": [
        "# Creating input sequences and their corresponding next words\n",
        "input_sequences = []\n",
        "for sentence in sentences:\n",
        "    tokenized_sentence = tokenizer.texts_to_sequences([sentence])[0]\n",
        "    for i in range(1, len(tokenized_sentence)):\n",
        "        n_gram_sequence = tokenized_sentence[:i+1]\n",
        "        input_sequences.append(n_gram_sequence)\n",
        "input_sequences"
      ],
      "metadata": {
        "colab": {
          "base_uri": "https://localhost:8080/"
        },
        "id": "5FtX-f7Cp9um",
        "outputId": "39c1b05b-3654-45c0-a1d1-472aad1ae1f8"
      },
      "execution_count": null,
      "outputs": [
        {
          "output_type": "execute_result",
          "data": {
            "text/plain": [
              "[[1, 2],\n",
              " [1, 2, 3],\n",
              " [1, 2],\n",
              " [1, 2, 4],\n",
              " [1, 5],\n",
              " [1, 5, 6],\n",
              " [7, 8],\n",
              " [7, 8, 9],\n",
              " [7, 8, 9, 10],\n",
              " [7, 8, 9, 10, 11]]"
            ]
          },
          "metadata": {},
          "execution_count": 4
        }
      ]
    },
    {
      "cell_type": "code",
      "source": [
        "# Padding sequences for consistent input size\n",
        "max_sequence_length = max([len(seq) for seq in input_sequences])\n",
        "input_sequences = pad_sequences(input_sequences, maxlen=max_sequence_length, padding='pre')"
      ],
      "metadata": {
        "id": "LY-JhO8zqCSA"
      },
      "execution_count": null,
      "outputs": []
    },
    {
      "cell_type": "code",
      "source": [
        "input_sequences"
      ],
      "metadata": {
        "colab": {
          "base_uri": "https://localhost:8080/"
        },
        "id": "eHYdpn4ZqFrL",
        "outputId": "1646e096-c98f-41a7-a313-f1c026b2ec74"
      },
      "execution_count": null,
      "outputs": [
        {
          "output_type": "execute_result",
          "data": {
            "text/plain": [
              "array([[ 0,  0,  0,  1,  2],\n",
              "       [ 0,  0,  1,  2,  3],\n",
              "       [ 0,  0,  0,  1,  2],\n",
              "       [ 0,  0,  1,  2,  4],\n",
              "       [ 0,  0,  0,  1,  5],\n",
              "       [ 0,  0,  1,  5,  6],\n",
              "       [ 0,  0,  0,  7,  8],\n",
              "       [ 0,  0,  7,  8,  9],\n",
              "       [ 0,  7,  8,  9, 10],\n",
              "       [ 7,  8,  9, 10, 11]], dtype=int32)"
            ]
          },
          "metadata": {},
          "execution_count": 6
        }
      ]
    },
    {
      "cell_type": "code",
      "source": [
        "# Creating input and output data\n",
        "X, y = input_sequences[:, :-1], input_sequences[:, -1]\n",
        "y = to_categorical(y, num_classes=total_words)"
      ],
      "metadata": {
        "id": "jQ_SbeNJqMHT"
      },
      "execution_count": null,
      "outputs": []
    },
    {
      "cell_type": "code",
      "source": [
        "# Building a simple RNN model\n",
        "model = Sequential()\n",
        "model.add(Embedding(input_dim=total_words, output_dim=50, input_length=max_sequence_length-1))\n",
        "model.add(SimpleRNN(100, return_sequences=True))\n",
        "model.add(SimpleRNN(100))\n",
        "model.add(Dense(total_words, activation='softmax'))"
      ],
      "metadata": {
        "id": "77uUIUHUqNMR"
      },
      "execution_count": null,
      "outputs": []
    },
    {
      "cell_type": "code",
      "source": [
        "# Compile the model\n",
        "model.compile(optimizer='adam', loss='binary_crossentropy', metrics=['accuracy'])"
      ],
      "metadata": {
        "id": "Pld9ng0EqQef"
      },
      "execution_count": null,
      "outputs": []
    },
    {
      "cell_type": "code",
      "source": [
        "#Training the model\n",
        "model.fit(X,y,epochs=50,verbose=2)   #how many ways it is running"
      ],
      "metadata": {
        "colab": {
          "base_uri": "https://localhost:8080/"
        },
        "id": "DkIBu2Y9qXlD",
        "outputId": "f419c427-d5cd-4552-9e8b-678c0f6bc9bc"
      },
      "execution_count": null,
      "outputs": [
        {
          "output_type": "stream",
          "name": "stdout",
          "text": [
            "Epoch 1/50\n",
            "1/1 - 7s - loss: 0.6973 - accuracy: 0.1000 - 7s/epoch - 7s/step\n",
            "Epoch 2/50\n",
            "1/1 - 0s - loss: 0.6574 - accuracy: 0.0000e+00 - 29ms/epoch - 29ms/step\n",
            "Epoch 3/50\n",
            "1/1 - 0s - loss: 0.6181 - accuracy: 0.2000 - 19ms/epoch - 19ms/step\n",
            "Epoch 4/50\n",
            "1/1 - 0s - loss: 0.5769 - accuracy: 0.2000 - 15ms/epoch - 15ms/step\n",
            "Epoch 5/50\n",
            "1/1 - 0s - loss: 0.5329 - accuracy: 0.2000 - 17ms/epoch - 17ms/step\n",
            "Epoch 6/50\n",
            "1/1 - 0s - loss: 0.4861 - accuracy: 0.2000 - 16ms/epoch - 16ms/step\n",
            "Epoch 7/50\n",
            "1/1 - 0s - loss: 0.4382 - accuracy: 0.2000 - 16ms/epoch - 16ms/step\n",
            "Epoch 8/50\n",
            "1/1 - 0s - loss: 0.3919 - accuracy: 0.2000 - 17ms/epoch - 17ms/step\n",
            "Epoch 9/50\n",
            "1/1 - 0s - loss: 0.3504 - accuracy: 0.2000 - 19ms/epoch - 19ms/step\n",
            "Epoch 10/50\n",
            "1/1 - 0s - loss: 0.3166 - accuracy: 0.2000 - 20ms/epoch - 20ms/step\n",
            "Epoch 11/50\n",
            "1/1 - 0s - loss: 0.2918 - accuracy: 0.2000 - 14ms/epoch - 14ms/step\n",
            "Epoch 12/50\n",
            "1/1 - 0s - loss: 0.2756 - accuracy: 0.2000 - 16ms/epoch - 16ms/step\n",
            "Epoch 13/50\n",
            "1/1 - 0s - loss: 0.2665 - accuracy: 0.2000 - 14ms/epoch - 14ms/step\n",
            "Epoch 14/50\n",
            "1/1 - 0s - loss: 0.2620 - accuracy: 0.2000 - 14ms/epoch - 14ms/step\n",
            "Epoch 15/50\n",
            "1/1 - 0s - loss: 0.2602 - accuracy: 0.2000 - 14ms/epoch - 14ms/step\n",
            "Epoch 16/50\n",
            "1/1 - 0s - loss: 0.2594 - accuracy: 0.2000 - 15ms/epoch - 15ms/step\n",
            "Epoch 17/50\n",
            "1/1 - 0s - loss: 0.2586 - accuracy: 0.2000 - 27ms/epoch - 27ms/step\n",
            "Epoch 18/50\n",
            "1/1 - 0s - loss: 0.2574 - accuracy: 0.2000 - 24ms/epoch - 24ms/step\n",
            "Epoch 19/50\n",
            "1/1 - 0s - loss: 0.2556 - accuracy: 0.2000 - 20ms/epoch - 20ms/step\n",
            "Epoch 20/50\n",
            "1/1 - 0s - loss: 0.2532 - accuracy: 0.2000 - 14ms/epoch - 14ms/step\n",
            "Epoch 21/50\n",
            "1/1 - 0s - loss: 0.2506 - accuracy: 0.2000 - 29ms/epoch - 29ms/step\n",
            "Epoch 22/50\n",
            "1/1 - 0s - loss: 0.2479 - accuracy: 0.2000 - 14ms/epoch - 14ms/step\n",
            "Epoch 23/50\n",
            "1/1 - 0s - loss: 0.2454 - accuracy: 0.2000 - 14ms/epoch - 14ms/step\n",
            "Epoch 24/50\n",
            "1/1 - 0s - loss: 0.2430 - accuracy: 0.2000 - 16ms/epoch - 16ms/step\n",
            "Epoch 25/50\n",
            "1/1 - 0s - loss: 0.2407 - accuracy: 0.3000 - 24ms/epoch - 24ms/step\n",
            "Epoch 26/50\n",
            "1/1 - 0s - loss: 0.2381 - accuracy: 0.4000 - 13ms/epoch - 13ms/step\n",
            "Epoch 27/50\n",
            "1/1 - 0s - loss: 0.2355 - accuracy: 0.4000 - 18ms/epoch - 18ms/step\n",
            "Epoch 28/50\n",
            "1/1 - 0s - loss: 0.2328 - accuracy: 0.4000 - 15ms/epoch - 15ms/step\n",
            "Epoch 29/50\n",
            "1/1 - 0s - loss: 0.2304 - accuracy: 0.4000 - 14ms/epoch - 14ms/step\n",
            "Epoch 30/50\n",
            "1/1 - 0s - loss: 0.2281 - accuracy: 0.4000 - 23ms/epoch - 23ms/step\n",
            "Epoch 31/50\n",
            "1/1 - 0s - loss: 0.2258 - accuracy: 0.4000 - 21ms/epoch - 21ms/step\n",
            "Epoch 32/50\n",
            "1/1 - 0s - loss: 0.2232 - accuracy: 0.5000 - 17ms/epoch - 17ms/step\n",
            "Epoch 33/50\n",
            "1/1 - 0s - loss: 0.2204 - accuracy: 0.5000 - 16ms/epoch - 16ms/step\n",
            "Epoch 34/50\n",
            "1/1 - 0s - loss: 0.2174 - accuracy: 0.5000 - 13ms/epoch - 13ms/step\n",
            "Epoch 35/50\n",
            "1/1 - 0s - loss: 0.2145 - accuracy: 0.5000 - 14ms/epoch - 14ms/step\n",
            "Epoch 36/50\n",
            "1/1 - 0s - loss: 0.2116 - accuracy: 0.5000 - 12ms/epoch - 12ms/step\n",
            "Epoch 37/50\n",
            "1/1 - 0s - loss: 0.2087 - accuracy: 0.5000 - 13ms/epoch - 13ms/step\n",
            "Epoch 38/50\n",
            "1/1 - 0s - loss: 0.2059 - accuracy: 0.4000 - 17ms/epoch - 17ms/step\n",
            "Epoch 39/50\n",
            "1/1 - 0s - loss: 0.2031 - accuracy: 0.4000 - 15ms/epoch - 15ms/step\n",
            "Epoch 40/50\n",
            "1/1 - 0s - loss: 0.2005 - accuracy: 0.4000 - 13ms/epoch - 13ms/step\n",
            "Epoch 41/50\n",
            "1/1 - 0s - loss: 0.1980 - accuracy: 0.4000 - 29ms/epoch - 29ms/step\n",
            "Epoch 42/50\n",
            "1/1 - 0s - loss: 0.1957 - accuracy: 0.4000 - 30ms/epoch - 30ms/step\n",
            "Epoch 43/50\n",
            "1/1 - 0s - loss: 0.1934 - accuracy: 0.4000 - 21ms/epoch - 21ms/step\n",
            "Epoch 44/50\n",
            "1/1 - 0s - loss: 0.1912 - accuracy: 0.4000 - 30ms/epoch - 30ms/step\n",
            "Epoch 45/50\n",
            "1/1 - 0s - loss: 0.1890 - accuracy: 0.5000 - 21ms/epoch - 21ms/step\n",
            "Epoch 46/50\n",
            "1/1 - 0s - loss: 0.1868 - accuracy: 0.6000 - 21ms/epoch - 21ms/step\n",
            "Epoch 47/50\n",
            "1/1 - 0s - loss: 0.1847 - accuracy: 0.7000 - 29ms/epoch - 29ms/step\n",
            "Epoch 48/50\n",
            "1/1 - 0s - loss: 0.1826 - accuracy: 0.7000 - 18ms/epoch - 18ms/step\n",
            "Epoch 49/50\n",
            "1/1 - 0s - loss: 0.1804 - accuracy: 0.7000 - 23ms/epoch - 23ms/step\n",
            "Epoch 50/50\n",
            "1/1 - 0s - loss: 0.1780 - accuracy: 0.7000 - 28ms/epoch - 28ms/step\n"
          ]
        },
        {
          "output_type": "execute_result",
          "data": {
            "text/plain": [
              "<keras.src.callbacks.History at 0x7e95a73dfc40>"
            ]
          },
          "metadata": {},
          "execution_count": 10
        }
      ]
    },
    {
      "cell_type": "code",
      "source": [
        "# Generating text using the trained model\n",
        "seed_text = input(\"Enter the starting word: \")\n",
        "next_words = int(input(\"Enter how many words to predict: \"))\n",
        "\n",
        "for _ in range(next_words):\n",
        "    tokenized_seed = tokenizer.texts_to_sequences([seed_text])[0]\n",
        "    tokenized_seed = pad_sequences([tokenized_seed], maxlen=max_sequence_length-1, padding='pre')\n",
        "    predicted_word_index = np.argmax(model.predict(tokenized_seed), axis=-1)\n",
        "    predicted_word = tokenizer.index_word[predicted_word_index[0]]\n",
        "    seed_text += \" \" + predicted_word\n",
        "\n",
        "print(seed_text)\n"
      ],
      "metadata": {
        "colab": {
          "base_uri": "https://localhost:8080/"
        },
        "id": "BvFe8D1kqym9",
        "outputId": "88af84d2-cec4-4da1-d01c-a46cdf255c71"
      },
      "execution_count": null,
      "outputs": [
        {
          "output_type": "stream",
          "name": "stdout",
          "text": [
            "Enter the starting word: hate\n",
            "Enter how many words to predict: 2\n",
            "1/1 [==============================] - 0s 20ms/step\n",
            "1/1 [==============================] - 0s 20ms/step\n",
            "hate love python\n"
          ]
        }
      ]
    },
    {
      "cell_type": "code",
      "source": [
        "\n"
      ],
      "metadata": {
        "id": "xgUf_kKWqzlM"
      },
      "execution_count": null,
      "outputs": []
    }
  ]
}