{
 "cells": [
  {
   "cell_type": "code",
   "execution_count": 1,
   "metadata": {},
   "outputs": [
    {
     "name": "stdout",
     "output_type": "stream",
     "text": [
      "Requirement already satisfied: selenium in c:\\users\\dell e5490\\anaconda3\\lib\\site-packages (4.18.1)\n",
      "Requirement already satisfied: urllib3[socks]<3,>=1.26 in c:\\users\\dell e5490\\anaconda3\\lib\\site-packages (from selenium) (1.26.16)\n",
      "Requirement already satisfied: trio~=0.17 in c:\\users\\dell e5490\\anaconda3\\lib\\site-packages (from selenium) (0.24.0)\n",
      "Requirement already satisfied: trio-websocket~=0.9 in c:\\users\\dell e5490\\anaconda3\\lib\\site-packages (from selenium) (0.11.1)\n",
      "Requirement already satisfied: certifi>=2021.10.8 in c:\\users\\dell e5490\\anaconda3\\lib\\site-packages (from selenium) (2023.7.22)\n",
      "Requirement already satisfied: typing_extensions>=4.9.0 in c:\\users\\dell e5490\\anaconda3\\lib\\site-packages (from selenium) (4.9.0)\n",
      "Requirement already satisfied: attrs>=20.1.0 in c:\\users\\dell e5490\\anaconda3\\lib\\site-packages (from trio~=0.17->selenium) (22.1.0)\n",
      "Requirement already satisfied: sortedcontainers in c:\\users\\dell e5490\\anaconda3\\lib\\site-packages (from trio~=0.17->selenium) (2.4.0)\n",
      "Requirement already satisfied: idna in c:\\users\\dell e5490\\anaconda3\\lib\\site-packages (from trio~=0.17->selenium) (3.4)\n",
      "Requirement already satisfied: outcome in c:\\users\\dell e5490\\anaconda3\\lib\\site-packages (from trio~=0.17->selenium) (1.3.0.post0)\n",
      "Requirement already satisfied: sniffio>=1.3.0 in c:\\users\\dell e5490\\anaconda3\\lib\\site-packages (from trio~=0.17->selenium) (1.3.0)\n",
      "Requirement already satisfied: cffi>=1.14 in c:\\users\\dell e5490\\anaconda3\\lib\\site-packages (from trio~=0.17->selenium) (1.15.1)\n",
      "Requirement already satisfied: wsproto>=0.14 in c:\\users\\dell e5490\\anaconda3\\lib\\site-packages (from trio-websocket~=0.9->selenium) (1.2.0)\n",
      "Requirement already satisfied: PySocks!=1.5.7,<2.0,>=1.5.6 in c:\\users\\dell e5490\\anaconda3\\lib\\site-packages (from urllib3[socks]<3,>=1.26->selenium) (1.7.1)\n",
      "Requirement already satisfied: pycparser in c:\\users\\dell e5490\\anaconda3\\lib\\site-packages (from cffi>=1.14->trio~=0.17->selenium) (2.21)\n",
      "Requirement already satisfied: h11<1,>=0.9.0 in c:\\users\\dell e5490\\anaconda3\\lib\\site-packages (from wsproto>=0.14->trio-websocket~=0.9->selenium) (0.14.0)\n",
      "Requirement already satisfied: webdriver_manager in c:\\users\\dell e5490\\anaconda3\\lib\\site-packages (4.0.1)\n",
      "Requirement already satisfied: requests in c:\\users\\dell e5490\\anaconda3\\lib\\site-packages (from webdriver_manager) (2.31.0)\n",
      "Requirement already satisfied: python-dotenv in c:\\users\\dell e5490\\anaconda3\\lib\\site-packages (from webdriver_manager) (0.21.0)\n",
      "Requirement already satisfied: packaging in c:\\users\\dell e5490\\appdata\\roaming\\python\\python311\\site-packages (from webdriver_manager) (23.2)\n",
      "Requirement already satisfied: charset-normalizer<4,>=2 in c:\\users\\dell e5490\\anaconda3\\lib\\site-packages (from requests->webdriver_manager) (2.0.4)\n",
      "Requirement already satisfied: idna<4,>=2.5 in c:\\users\\dell e5490\\anaconda3\\lib\\site-packages (from requests->webdriver_manager) (3.4)\n",
      "Requirement already satisfied: urllib3<3,>=1.21.1 in c:\\users\\dell e5490\\anaconda3\\lib\\site-packages (from requests->webdriver_manager) (1.26.16)\n",
      "Requirement already satisfied: certifi>=2017.4.17 in c:\\users\\dell e5490\\anaconda3\\lib\\site-packages (from requests->webdriver_manager) (2023.7.22)\n"
     ]
    }
   ],
   "source": [
    "!pip install selenium\n",
    "!pip install webdriver_manager"
   ]
  },
  {
   "cell_type": "code",
   "execution_count": 2,
   "metadata": {},
   "outputs": [],
   "source": [
    "import selenium\n",
    "from selenium import webdriver\n",
    "from selenium.webdriver.chrome.options import Options\n",
    "from selenium.webdriver.common.by import By\n",
    "from selenium.webdriver.common.keys import Keys\n",
    "from webdriver_manager.chrome import ChromeDriverManager\n",
    "import pandas as pd"
   ]
  },
  {
   "cell_type": "code",
   "execution_count": 3,
   "metadata": {},
   "outputs": [],
   "source": [
    "#define options and set browser capabilities\n",
    "options=webdriver.ChromeOptions()\n",
    "#options.add_argument('-----some----option')"
   ]
  },
  {
   "cell_type": "code",
   "execution_count": 4,
   "metadata": {},
   "outputs": [],
   "source": [
    "#create webdriver instance with options\n",
    "driver=webdriver.Chrome(options=options)  #For creating an empty website"
   ]
  },
  {
   "cell_type": "code",
   "execution_count": 5,
   "metadata": {},
   "outputs": [],
   "source": [
    "#navigate to a website\n",
    "driver.get('https://www.myntra.com/')"
   ]
  },
  {
   "cell_type": "code",
   "execution_count": 6,
   "metadata": {},
   "outputs": [],
   "source": [
    "search=driver.find_element(By.XPATH,\".//input[@class='desktop-searchBar']\")"
   ]
  },
  {
   "cell_type": "code",
   "execution_count": 7,
   "metadata": {},
   "outputs": [],
   "source": [
    "search.send_keys(\"Cardigan Tops\")"
   ]
  },
  {
   "cell_type": "code",
   "execution_count": 8,
   "metadata": {},
   "outputs": [],
   "source": [
    "search.send_keys(Keys.ENTER)"
   ]
  },
  {
   "cell_type": "code",
   "execution_count": 9,
   "metadata": {},
   "outputs": [],
   "source": [
    "search=driver.find_elements(By.XPATH,\".//h3[@class='product-brand']\")"
   ]
  },
  {
   "cell_type": "code",
   "execution_count": 10,
   "metadata": {},
   "outputs": [],
   "source": [
    "search=driver.find_elements(By.XPATH,\".//h4[@class='product-product']\")"
   ]
  },
  {
   "cell_type": "code",
   "execution_count": 11,
   "metadata": {},
   "outputs": [],
   "source": [
    "search=driver.find_elements(By.XPATH,\".//div[@class='product-price']\")"
   ]
  },
  {
   "cell_type": "code",
   "execution_count": 12,
   "metadata": {},
   "outputs": [],
   "source": [
    "brand=driver.find_elements(By.XPATH,\".//h3[@class='product-brand']\")\n",
    "brands=[i.text for i in brand]"
   ]
  },
  {
   "cell_type": "code",
   "execution_count": 13,
   "metadata": {},
   "outputs": [
    {
     "name": "stdout",
     "output_type": "stream",
     "text": [
      "['JoE Hazel', 'JoE Hazel', 'JoE Hazel', 'Tokyo Talkies', 'Tokyo Talkies', 'Roadster', 'Tokyo Talkies', 'LULU & SKY', 'Ardene', 'LULU & SKY', 'Roadster', 'Roadster', 'Roadster', '4WRD by Dressberry']\n",
      "14\n"
     ]
    }
   ],
   "source": [
    "print(brands)\n",
    "print(len(brands))"
   ]
  },
  {
   "cell_type": "code",
   "execution_count": 14,
   "metadata": {},
   "outputs": [],
   "source": [
    "prod=driver.find_elements(By.XPATH,\".//h4[@class='product-product']\")\n",
    "prods=[i.text for i in prod]"
   ]
  },
  {
   "cell_type": "code",
   "execution_count": 15,
   "metadata": {},
   "outputs": [
    {
     "name": "stdout",
     "output_type": "stream",
     "text": [
      "['Woman Pink Cardigan', 'Woman Green Cardigan', 'Woman Black Cardigan', 'Crop Top With Cardigan', 'Crop Top With Cardigan', 'Solid Cardigan Set', 'Crop Top With Cardigan Sweater', 'Crop Top With Cardigan', 'Cardigan Style Crop Top', 'Mandarin Collar Cardigan Top', 'Solid Cardigan Set', 'Solid Cardigan Set', 'Solid Cardigan Set', 'Crop Top With Cardigan']\n",
      "14\n"
     ]
    }
   ],
   "source": [
    "print(prods)\n",
    "print(len(prods))"
   ]
  },
  {
   "cell_type": "code",
   "execution_count": 16,
   "metadata": {},
   "outputs": [],
   "source": [
    "price=driver.find_elements(By.XPATH,\".//div[@class='product-price']\")\n",
    "prices=[i.text for i in price]"
   ]
  },
  {
   "cell_type": "code",
   "execution_count": 17,
   "metadata": {},
   "outputs": [
    {
     "name": "stdout",
     "output_type": "stream",
     "text": [
      "[<selenium.webdriver.remote.webelement.WebElement (session=\"04135c9a867268f2db6a7f4cd269644a\", element=\"f.6529AF1F994951F730C56B5975AD445D.d.1A9035270BEB6FD206D771E94992440C.e.78\")>, <selenium.webdriver.remote.webelement.WebElement (session=\"04135c9a867268f2db6a7f4cd269644a\", element=\"f.6529AF1F994951F730C56B5975AD445D.d.1A9035270BEB6FD206D771E94992440C.e.79\")>, <selenium.webdriver.remote.webelement.WebElement (session=\"04135c9a867268f2db6a7f4cd269644a\", element=\"f.6529AF1F994951F730C56B5975AD445D.d.1A9035270BEB6FD206D771E94992440C.e.80\")>, <selenium.webdriver.remote.webelement.WebElement (session=\"04135c9a867268f2db6a7f4cd269644a\", element=\"f.6529AF1F994951F730C56B5975AD445D.d.1A9035270BEB6FD206D771E94992440C.e.81\")>, <selenium.webdriver.remote.webelement.WebElement (session=\"04135c9a867268f2db6a7f4cd269644a\", element=\"f.6529AF1F994951F730C56B5975AD445D.d.1A9035270BEB6FD206D771E94992440C.e.82\")>, <selenium.webdriver.remote.webelement.WebElement (session=\"04135c9a867268f2db6a7f4cd269644a\", element=\"f.6529AF1F994951F730C56B5975AD445D.d.1A9035270BEB6FD206D771E94992440C.e.83\")>, <selenium.webdriver.remote.webelement.WebElement (session=\"04135c9a867268f2db6a7f4cd269644a\", element=\"f.6529AF1F994951F730C56B5975AD445D.d.1A9035270BEB6FD206D771E94992440C.e.84\")>, <selenium.webdriver.remote.webelement.WebElement (session=\"04135c9a867268f2db6a7f4cd269644a\", element=\"f.6529AF1F994951F730C56B5975AD445D.d.1A9035270BEB6FD206D771E94992440C.e.85\")>, <selenium.webdriver.remote.webelement.WebElement (session=\"04135c9a867268f2db6a7f4cd269644a\", element=\"f.6529AF1F994951F730C56B5975AD445D.d.1A9035270BEB6FD206D771E94992440C.e.86\")>, <selenium.webdriver.remote.webelement.WebElement (session=\"04135c9a867268f2db6a7f4cd269644a\", element=\"f.6529AF1F994951F730C56B5975AD445D.d.1A9035270BEB6FD206D771E94992440C.e.87\")>, <selenium.webdriver.remote.webelement.WebElement (session=\"04135c9a867268f2db6a7f4cd269644a\", element=\"f.6529AF1F994951F730C56B5975AD445D.d.1A9035270BEB6FD206D771E94992440C.e.88\")>, <selenium.webdriver.remote.webelement.WebElement (session=\"04135c9a867268f2db6a7f4cd269644a\", element=\"f.6529AF1F994951F730C56B5975AD445D.d.1A9035270BEB6FD206D771E94992440C.e.89\")>, <selenium.webdriver.remote.webelement.WebElement (session=\"04135c9a867268f2db6a7f4cd269644a\", element=\"f.6529AF1F994951F730C56B5975AD445D.d.1A9035270BEB6FD206D771E94992440C.e.90\")>, <selenium.webdriver.remote.webelement.WebElement (session=\"04135c9a867268f2db6a7f4cd269644a\", element=\"f.6529AF1F994951F730C56B5975AD445D.d.1A9035270BEB6FD206D771E94992440C.e.91\")>]\n",
      "14\n"
     ]
    }
   ],
   "source": [
    "print(price)\n",
    "print(len(prices))"
   ]
  },
  {
   "cell_type": "code",
   "execution_count": 18,
   "metadata": {},
   "outputs": [],
   "source": [
    "df=pd.DataFrame(columns=[\"Brand\",\"Product\",\"Price\"])"
   ]
  },
  {
   "cell_type": "code",
   "execution_count": 19,
   "metadata": {},
   "outputs": [
    {
     "data": {
      "text/html": [
       "<div>\n",
       "<style scoped>\n",
       "    .dataframe tbody tr th:only-of-type {\n",
       "        vertical-align: middle;\n",
       "    }\n",
       "\n",
       "    .dataframe tbody tr th {\n",
       "        vertical-align: top;\n",
       "    }\n",
       "\n",
       "    .dataframe thead th {\n",
       "        text-align: right;\n",
       "    }\n",
       "</style>\n",
       "<table border=\"1\" class=\"dataframe\">\n",
       "  <thead>\n",
       "    <tr style=\"text-align: right;\">\n",
       "      <th></th>\n",
       "      <th>Brand</th>\n",
       "      <th>Product</th>\n",
       "      <th>Price</th>\n",
       "    </tr>\n",
       "  </thead>\n",
       "  <tbody>\n",
       "  </tbody>\n",
       "</table>\n",
       "</div>"
      ],
      "text/plain": [
       "Empty DataFrame\n",
       "Columns: [Brand, Product, Price]\n",
       "Index: []"
      ]
     },
     "execution_count": 19,
     "metadata": {},
     "output_type": "execute_result"
    }
   ],
   "source": [
    "df"
   ]
  },
  {
   "cell_type": "code",
   "execution_count": 20,
   "metadata": {},
   "outputs": [],
   "source": [
    "df['Brand']=brands\n",
    "df['Prod']=prods\n",
    "df['Price']=prices"
   ]
  },
  {
   "cell_type": "code",
   "execution_count": 21,
   "metadata": {},
   "outputs": [
    {
     "data": {
      "text/html": [
       "<div>\n",
       "<style scoped>\n",
       "    .dataframe tbody tr th:only-of-type {\n",
       "        vertical-align: middle;\n",
       "    }\n",
       "\n",
       "    .dataframe tbody tr th {\n",
       "        vertical-align: top;\n",
       "    }\n",
       "\n",
       "    .dataframe thead th {\n",
       "        text-align: right;\n",
       "    }\n",
       "</style>\n",
       "<table border=\"1\" class=\"dataframe\">\n",
       "  <thead>\n",
       "    <tr style=\"text-align: right;\">\n",
       "      <th></th>\n",
       "      <th>Brand</th>\n",
       "      <th>Product</th>\n",
       "      <th>Price</th>\n",
       "      <th>Prod</th>\n",
       "    </tr>\n",
       "  </thead>\n",
       "  <tbody>\n",
       "    <tr>\n",
       "      <th>0</th>\n",
       "      <td>JoE Hazel</td>\n",
       "      <td>NaN</td>\n",
       "      <td>Rs. 699Rs. 1999(65% OFF)</td>\n",
       "      <td>Woman Pink Cardigan</td>\n",
       "    </tr>\n",
       "    <tr>\n",
       "      <th>1</th>\n",
       "      <td>JoE Hazel</td>\n",
       "      <td>NaN</td>\n",
       "      <td>Rs. 699Rs. 1999(65% OFF)</td>\n",
       "      <td>Woman Green Cardigan</td>\n",
       "    </tr>\n",
       "    <tr>\n",
       "      <th>2</th>\n",
       "      <td>JoE Hazel</td>\n",
       "      <td>NaN</td>\n",
       "      <td>Rs. 699Rs. 1999(65% OFF)</td>\n",
       "      <td>Woman Black Cardigan</td>\n",
       "    </tr>\n",
       "    <tr>\n",
       "      <th>3</th>\n",
       "      <td>Tokyo Talkies</td>\n",
       "      <td>NaN</td>\n",
       "      <td>Rs. 1956Rs. 5149(62% OFF)</td>\n",
       "      <td>Crop Top With Cardigan</td>\n",
       "    </tr>\n",
       "    <tr>\n",
       "      <th>4</th>\n",
       "      <td>Tokyo Talkies</td>\n",
       "      <td>NaN</td>\n",
       "      <td>Rs. 1399Rs. 5149(Rs. 3750 OFF)</td>\n",
       "      <td>Crop Top With Cardigan</td>\n",
       "    </tr>\n",
       "    <tr>\n",
       "      <th>5</th>\n",
       "      <td>Roadster</td>\n",
       "      <td>NaN</td>\n",
       "      <td>Rs. 1079Rs. 2399(55% OFF)</td>\n",
       "      <td>Solid Cardigan Set</td>\n",
       "    </tr>\n",
       "    <tr>\n",
       "      <th>6</th>\n",
       "      <td>Tokyo Talkies</td>\n",
       "      <td>NaN</td>\n",
       "      <td>Rs. 1549Rs. 5149(Rs. 3600 OFF)</td>\n",
       "      <td>Crop Top With Cardigan Sweater</td>\n",
       "    </tr>\n",
       "    <tr>\n",
       "      <th>7</th>\n",
       "      <td>LULU &amp; SKY</td>\n",
       "      <td>NaN</td>\n",
       "      <td>Rs. 1856Rs. 4420(58% OFF)</td>\n",
       "      <td>Crop Top With Cardigan</td>\n",
       "    </tr>\n",
       "    <tr>\n",
       "      <th>8</th>\n",
       "      <td>Ardene</td>\n",
       "      <td>NaN</td>\n",
       "      <td>Rs. 1899Rs. 1999(5% OFF)</td>\n",
       "      <td>Cardigan Style Crop Top</td>\n",
       "    </tr>\n",
       "    <tr>\n",
       "      <th>9</th>\n",
       "      <td>LULU &amp; SKY</td>\n",
       "      <td>NaN</td>\n",
       "      <td>Rs. 1681Rs. 4003(58% OFF)</td>\n",
       "      <td>Mandarin Collar Cardigan Top</td>\n",
       "    </tr>\n",
       "    <tr>\n",
       "      <th>10</th>\n",
       "      <td>Roadster</td>\n",
       "      <td>NaN</td>\n",
       "      <td>Rs. 719Rs. 2399(70% OFF)</td>\n",
       "      <td>Solid Cardigan Set</td>\n",
       "    </tr>\n",
       "    <tr>\n",
       "      <th>11</th>\n",
       "      <td>Roadster</td>\n",
       "      <td>NaN</td>\n",
       "      <td>Rs. 839Rs. 2399(65% OFF)</td>\n",
       "      <td>Solid Cardigan Set</td>\n",
       "    </tr>\n",
       "    <tr>\n",
       "      <th>12</th>\n",
       "      <td>Roadster</td>\n",
       "      <td>NaN</td>\n",
       "      <td>Rs. 1079Rs. 2399(55% OFF)</td>\n",
       "      <td>Solid Cardigan Set</td>\n",
       "    </tr>\n",
       "    <tr>\n",
       "      <th>13</th>\n",
       "      <td>4WRD by Dressberry</td>\n",
       "      <td>NaN</td>\n",
       "      <td>Rs. 999Rs. 3499(Rs. 2500 OFF)</td>\n",
       "      <td>Crop Top With Cardigan</td>\n",
       "    </tr>\n",
       "  </tbody>\n",
       "</table>\n",
       "</div>"
      ],
      "text/plain": [
       "                 Brand Product                           Price  \\\n",
       "0            JoE Hazel     NaN        Rs. 699Rs. 1999(65% OFF)   \n",
       "1            JoE Hazel     NaN        Rs. 699Rs. 1999(65% OFF)   \n",
       "2            JoE Hazel     NaN        Rs. 699Rs. 1999(65% OFF)   \n",
       "3        Tokyo Talkies     NaN       Rs. 1956Rs. 5149(62% OFF)   \n",
       "4        Tokyo Talkies     NaN  Rs. 1399Rs. 5149(Rs. 3750 OFF)   \n",
       "5             Roadster     NaN       Rs. 1079Rs. 2399(55% OFF)   \n",
       "6        Tokyo Talkies     NaN  Rs. 1549Rs. 5149(Rs. 3600 OFF)   \n",
       "7           LULU & SKY     NaN       Rs. 1856Rs. 4420(58% OFF)   \n",
       "8               Ardene     NaN        Rs. 1899Rs. 1999(5% OFF)   \n",
       "9           LULU & SKY     NaN       Rs. 1681Rs. 4003(58% OFF)   \n",
       "10            Roadster     NaN        Rs. 719Rs. 2399(70% OFF)   \n",
       "11            Roadster     NaN        Rs. 839Rs. 2399(65% OFF)   \n",
       "12            Roadster     NaN       Rs. 1079Rs. 2399(55% OFF)   \n",
       "13  4WRD by Dressberry     NaN   Rs. 999Rs. 3499(Rs. 2500 OFF)   \n",
       "\n",
       "                              Prod  \n",
       "0              Woman Pink Cardigan  \n",
       "1             Woman Green Cardigan  \n",
       "2             Woman Black Cardigan  \n",
       "3           Crop Top With Cardigan  \n",
       "4           Crop Top With Cardigan  \n",
       "5               Solid Cardigan Set  \n",
       "6   Crop Top With Cardigan Sweater  \n",
       "7           Crop Top With Cardigan  \n",
       "8          Cardigan Style Crop Top  \n",
       "9     Mandarin Collar Cardigan Top  \n",
       "10              Solid Cardigan Set  \n",
       "11              Solid Cardigan Set  \n",
       "12              Solid Cardigan Set  \n",
       "13          Crop Top With Cardigan  "
      ]
     },
     "execution_count": 21,
     "metadata": {},
     "output_type": "execute_result"
    }
   ],
   "source": [
    "df"
   ]
  },
  {
   "cell_type": "code",
   "execution_count": 22,
   "metadata": {},
   "outputs": [],
   "source": [
    "df.to_csv(\"myntra1.csv\")"
   ]
  }
 ],
 "metadata": {
  "kernelspec": {
   "display_name": "base",
   "language": "python",
   "name": "python3"
  },
  "language_info": {
   "codemirror_mode": {
    "name": "ipython",
    "version": 3
   },
   "file_extension": ".py",
   "mimetype": "text/x-python",
   "name": "python",
   "nbconvert_exporter": "python",
   "pygments_lexer": "ipython3",
   "version": "3.11.5"
  }
 },
 "nbformat": 4,
 "nbformat_minor": 2
}
