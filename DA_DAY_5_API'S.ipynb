{
  "nbformat": 4,
  "nbformat_minor": 0,
  "metadata": {
    "colab": {
      "provenance": []
    },
    "kernelspec": {
      "name": "python3",
      "display_name": "Python 3"
    },
    "language_info": {
      "name": "python"
    }
  },
  "cells": [
    {
      "cell_type": "code",
      "execution_count": null,
      "metadata": {
        "colab": {
          "base_uri": "https://localhost:8080/"
        },
        "id": "5m6WTlrGVGep",
        "outputId": "6f49fc1d-aece-4b12-b116-3c80f011a21f"
      },
      "outputs": [
        {
          "output_type": "stream",
          "name": "stdout",
          "text": [
            "{'location': {'name': 'London', 'region': 'City of London, Greater London', 'country': 'United Kingdom', 'lat': 51.52, 'lon': -0.11, 'tz_id': 'Europe/London', 'localtime_epoch': 1709134130, 'localtime': '2024-02-28 15:28'}, 'current': {'last_updated_epoch': 1709133300, 'last_updated': '2024-02-28 15:15', 'temp_c': 11.0, 'temp_f': 51.8, 'is_day': 1, 'condition': {'text': 'Partly cloudy', 'icon': '//cdn.weatherapi.com/weather/64x64/day/116.png', 'code': 1003}, 'wind_mph': 10.5, 'wind_kph': 16.9, 'wind_degree': 220, 'wind_dir': 'SW', 'pressure_mb': 1015.0, 'pressure_in': 29.97, 'precip_mm': 0.0, 'precip_in': 0.0, 'humidity': 71, 'cloud': 75, 'feelslike_c': 9.1, 'feelslike_f': 48.4, 'vis_km': 10.0, 'vis_miles': 6.0, 'uv': 3.0, 'gust_mph': 13.3, 'gust_kph': 21.3}}\n"
          ]
        }
      ],
      "source": [
        "import requests\n",
        "api_key='a7e47878b23a4ff3a3d53832242802'\n",
        "city='London'\n",
        "url=f\"http://api.weatherapi.com/v1/current.json?key={api_key}&q={city}\"\n",
        "response=requests.get(url)\n",
        "data=response.json()\n",
        "print(data)"
      ]
    },
    {
      "cell_type": "code",
      "source": [
        "type(data)"
      ],
      "metadata": {
        "colab": {
          "base_uri": "https://localhost:8080/"
        },
        "id": "UEqMfRoWVgwj",
        "outputId": "16693d32-46b3-4963-dfb6-616a9f5b5e91"
      },
      "execution_count": null,
      "outputs": [
        {
          "output_type": "execute_result",
          "data": {
            "text/plain": [
              "dict"
            ]
          },
          "metadata": {},
          "execution_count": 2
        }
      ]
    },
    {
      "cell_type": "code",
      "source": [
        "print(\"city\",data['location']['name'])\n",
        "print(\"feels like\"),data['current']['feelslike_c']"
      ],
      "metadata": {
        "colab": {
          "base_uri": "https://localhost:8080/"
        },
        "id": "aKr8xN5AVn_u",
        "outputId": "0aebc92e-dc58-40af-ccdc-3e9b20822d78"
      },
      "execution_count": null,
      "outputs": [
        {
          "output_type": "stream",
          "name": "stdout",
          "text": [
            "city London\n",
            "feels like\n"
          ]
        },
        {
          "output_type": "execute_result",
          "data": {
            "text/plain": [
              "(None, 9.1)"
            ]
          },
          "metadata": {},
          "execution_count": 3
        }
      ]
    },
    {
      "cell_type": "code",
      "source": [
        "import requests\n",
        "api_key='a7e47878b23a4ff3a3d53832242802'\n",
        "city='Hyderabad'\n",
        "url=f\"http://api.weatherapi.com/v1/current.json?key={api_key}&q={city}\"\n",
        "response=requests.get(url)\n",
        "data=response.json()\n",
        "print(data)"
      ],
      "metadata": {
        "colab": {
          "base_uri": "https://localhost:8080/"
        },
        "id": "tlA0SXyVVwc1",
        "outputId": "2031efcc-8eb2-43b6-d059-6a8dcf67177d"
      },
      "execution_count": null,
      "outputs": [
        {
          "output_type": "stream",
          "name": "stdout",
          "text": [
            "{'location': {'name': 'Hyderabad', 'region': 'Andhra Pradesh', 'country': 'India', 'lat': 17.38, 'lon': 78.47, 'tz_id': 'Asia/Kolkata', 'localtime_epoch': 1709134182, 'localtime': '2024-02-28 20:59'}, 'current': {'last_updated_epoch': 1709133300, 'last_updated': '2024-02-28 20:45', 'temp_c': 25.0, 'temp_f': 77.0, 'is_day': 0, 'condition': {'text': 'Clear', 'icon': '//cdn.weatherapi.com/weather/64x64/night/113.png', 'code': 1000}, 'wind_mph': 5.6, 'wind_kph': 9.0, 'wind_degree': 80, 'wind_dir': 'E', 'pressure_mb': 1016.0, 'pressure_in': 30.0, 'precip_mm': 0.0, 'precip_in': 0.0, 'humidity': 47, 'cloud': 0, 'feelslike_c': 24.6, 'feelslike_f': 76.2, 'vis_km': 6.0, 'vis_miles': 3.0, 'uv': 1.0, 'gust_mph': 17.0, 'gust_kph': 27.4}}\n"
          ]
        }
      ]
    },
    {
      "cell_type": "code",
      "source": [
        "type(data)"
      ],
      "metadata": {
        "colab": {
          "base_uri": "https://localhost:8080/"
        },
        "id": "VJAOQkHtVyr7",
        "outputId": "75256dba-8d05-41b7-ae37-6eb0179640d7"
      },
      "execution_count": null,
      "outputs": [
        {
          "output_type": "execute_result",
          "data": {
            "text/plain": [
              "dict"
            ]
          },
          "metadata": {},
          "execution_count": 5
        }
      ]
    },
    {
      "cell_type": "code",
      "source": [
        "print(\"city\",data['location']['name'])\n",
        "print(\"state\",data['location']['region'])\n",
        "print(\"country\",data['location']['country'])\n",
        "print(\"temperature\",data['current']['temp_c'])\n",
        "print(\"wind direction\",data['current']['wind_dir'])\n",
        "print(\"wind speed\"),data['current']['wind_mph']\n",
        "print(\"humidity\"),data['current']['humidity']\n",
        "print(\"feels like\"),data['current']['feelslike_c']"
      ],
      "metadata": {
        "colab": {
          "base_uri": "https://localhost:8080/"
        },
        "id": "-0jxFKboV2SM",
        "outputId": "3f7da2af-6041-4b7d-c5b3-65935037c47a"
      },
      "execution_count": null,
      "outputs": [
        {
          "output_type": "stream",
          "name": "stdout",
          "text": [
            "city Hyderabad\n",
            "state Andhra Pradesh\n",
            "country India\n",
            "temperature 25.0\n",
            "wind direction E\n",
            "wind speed\n",
            "humidity\n",
            "feels like\n"
          ]
        },
        {
          "output_type": "execute_result",
          "data": {
            "text/plain": [
              "(None, 24.6)"
            ]
          },
          "metadata": {},
          "execution_count": 6
        }
      ]
    },
    {
      "cell_type": "code",
      "source": [
        "import requests\n",
        "api_key='a7e47878b23a4ff3a3d53832242802'\n",
        "city=input(\"enter city\")\n",
        "url=f\"http://api.weatherapi.com/v1/current.json?key={api_key}&q={city}\"\n",
        "response=requests.get(url)\n",
        "data=response.json()\n",
        "print(data)\n",
        "if data['error']['code']==1006:\n",
        "  print(\"No location found\")\n",
        "else:\n",
        "  #printing!\n",
        "  print(\"city\",data['location']['name'])\n",
        "  print(\"state\",data['location']['region'])\n",
        "  print(\"country\",data['location']['country'])\n",
        "  print(\"temperature\",data['current']['temp_c'])\n",
        "  print(\"wind direction\",data['current']['wind_dir'])\n",
        "  print(\"wind speed\"),data['current']['wind_mph']\n",
        "  print(\"humidity\"),data['current']['humidity']\n",
        "  print(\"feels like\"),data['current']['feelslike_c']"
      ],
      "metadata": {
        "colab": {
          "base_uri": "https://localhost:8080/"
        },
        "id": "tNs_a_-pV64N",
        "outputId": "a4ecfd94-c504-401c-aa42-68dd346391b1"
      },
      "execution_count": null,
      "outputs": [
        {
          "output_type": "stream",
          "name": "stdout",
          "text": [
            "enter citychgbvjmhb\n",
            "{'error': {'code': 1006, 'message': 'No matching location found.'}}\n",
            "No location found\n"
          ]
        }
      ]
    },
    {
      "cell_type": "code",
      "source": [
        "import requests\n",
        "api_key='a7e47878b23a4ff3a3d53832242802'\n",
        "city=input(\"enter city\")\n",
        "url=f\"http://api.weatherapi.com/v1/current.json?key={api_key}&q={city}\"\n",
        "response=requests.get(url)\n",
        "data=response.json()\n",
        "print(data['error']['message'])\n",
        "if data['error']['code']==1006:\n",
        "  print(\"No location found\")\n",
        "else:\n",
        "  #printing!\n",
        "  print(\"city\",data['location']['name'])\n",
        "  print(\"state\",data['location']['region'])\n",
        "  print(\"country\",data['location']['country'])\n",
        "  print(\"temperature\",data['current']['temp_c'])\n",
        "  print(\"wind direction\",data['current']['wind_dir'])\n",
        "  print(\"wind speed\"),data['current']['wind_mph']\n",
        "  print(\"humidity\"),data['current']['humidity']\n",
        "  print(\"feels like\"),data['current']['feelslike_c']"
      ],
      "metadata": {
        "colab": {
          "base_uri": "https://localhost:8080/"
        },
        "id": "kFiZCYoDWJa0",
        "outputId": "79898770-b16b-4a51-f4d1-a340d226e5de"
      },
      "execution_count": null,
      "outputs": [
        {
          "output_type": "stream",
          "name": "stdout",
          "text": [
            "enter citynhvtfdccccch\n",
            "No matching location found.\n",
            "No location found\n"
          ]
        }
      ]
    },
    {
      "cell_type": "code",
      "source": [
        "import requests\n",
        "api_key='a7e47878b23a4ff3a3d53832242802'\n",
        "city=input(\"enter city\")\n",
        "url=f\"http://api.weatherapi.com/v1/current.json?key={api_key}&q={city}\"\n",
        "code=response\n",
        "response=requests.get(url)\n",
        "data=response.json()\n",
        "if response.status_code == 200:\n",
        "  #printing!\n",
        "  print(\"city\",data['location']['name'])\n",
        "  print(\"state\",data['location']['region'])\n",
        "  print(\"country\",data['location']['country'])\n",
        "  print(\"temperature\",data['current']['temp_c'])\n",
        "  print(\"wind direction\",data['current']['wind_dir'])\n",
        "  print(\"wind speed\"),data['current']['wind_mph']\n",
        "  print(\"humidity\"),data['current']['humidity']\n",
        "  print(\"feels like\"),data['current']['feelslike_c']\n",
        "else:\n",
        "  print(data['error']['message'])"
      ],
      "metadata": {
        "colab": {
          "base_uri": "https://localhost:8080/"
        },
        "id": "GooLD3kWWRVd",
        "outputId": "ce862c32-bb16-4d7d-de5b-cb850ddeb810"
      },
      "execution_count": null,
      "outputs": [
        {
          "output_type": "stream",
          "name": "stdout",
          "text": [
            "enter cityBhimavaram\n",
            "city Bhimavaram\n",
            "state Andhra Pradesh\n",
            "country India\n",
            "temperature 23.1\n",
            "wind direction ENE\n",
            "wind speed\n",
            "humidity\n",
            "feels like\n"
          ]
        }
      ]
    }
  ]
}