{
 "cells": [
  {
   "cell_type": "code",
   "execution_count": 1,
   "metadata": {},
   "outputs": [
    {
     "name": "stdout",
     "output_type": "stream",
     "text": [
      "Requirement already satisfied: selenium in c:\\users\\dell e5490\\anaconda3\\lib\\site-packages (4.18.1)\n",
      "Requirement already satisfied: urllib3[socks]<3,>=1.26 in c:\\users\\dell e5490\\anaconda3\\lib\\site-packages (from selenium) (1.26.16)\n",
      "Requirement already satisfied: trio~=0.17 in c:\\users\\dell e5490\\anaconda3\\lib\\site-packages (from selenium) (0.24.0)\n",
      "Requirement already satisfied: trio-websocket~=0.9 in c:\\users\\dell e5490\\anaconda3\\lib\\site-packages (from selenium) (0.11.1)\n",
      "Requirement already satisfied: certifi>=2021.10.8 in c:\\users\\dell e5490\\anaconda3\\lib\\site-packages (from selenium) (2023.7.22)\n",
      "Requirement already satisfied: typing_extensions>=4.9.0 in c:\\users\\dell e5490\\anaconda3\\lib\\site-packages (from selenium) (4.9.0)\n",
      "Requirement already satisfied: attrs>=20.1.0 in c:\\users\\dell e5490\\anaconda3\\lib\\site-packages (from trio~=0.17->selenium) (22.1.0)\n",
      "Requirement already satisfied: sortedcontainers in c:\\users\\dell e5490\\anaconda3\\lib\\site-packages (from trio~=0.17->selenium) (2.4.0)\n",
      "Requirement already satisfied: idna in c:\\users\\dell e5490\\anaconda3\\lib\\site-packages (from trio~=0.17->selenium) (3.4)\n",
      "Requirement already satisfied: outcome in c:\\users\\dell e5490\\anaconda3\\lib\\site-packages (from trio~=0.17->selenium) (1.3.0.post0)\n",
      "Requirement already satisfied: sniffio>=1.3.0 in c:\\users\\dell e5490\\anaconda3\\lib\\site-packages (from trio~=0.17->selenium) (1.3.0)\n",
      "Requirement already satisfied: cffi>=1.14 in c:\\users\\dell e5490\\anaconda3\\lib\\site-packages (from trio~=0.17->selenium) (1.15.1)\n",
      "Requirement already satisfied: wsproto>=0.14 in c:\\users\\dell e5490\\anaconda3\\lib\\site-packages (from trio-websocket~=0.9->selenium) (1.2.0)\n",
      "Requirement already satisfied: PySocks!=1.5.7,<2.0,>=1.5.6 in c:\\users\\dell e5490\\anaconda3\\lib\\site-packages (from urllib3[socks]<3,>=1.26->selenium) (1.7.1)\n",
      "Requirement already satisfied: pycparser in c:\\users\\dell e5490\\anaconda3\\lib\\site-packages (from cffi>=1.14->trio~=0.17->selenium) (2.21)\n",
      "Requirement already satisfied: h11<1,>=0.9.0 in c:\\users\\dell e5490\\anaconda3\\lib\\site-packages (from wsproto>=0.14->trio-websocket~=0.9->selenium) (0.14.0)\n",
      "Requirement already satisfied: webdriver_manager in c:\\users\\dell e5490\\anaconda3\\lib\\site-packages (4.0.1)\n",
      "Requirement already satisfied: requests in c:\\users\\dell e5490\\anaconda3\\lib\\site-packages (from webdriver_manager) (2.31.0)\n",
      "Requirement already satisfied: python-dotenv in c:\\users\\dell e5490\\anaconda3\\lib\\site-packages (from webdriver_manager) (0.21.0)\n",
      "Requirement already satisfied: packaging in c:\\users\\dell e5490\\appdata\\roaming\\python\\python311\\site-packages (from webdriver_manager) (23.2)\n",
      "Requirement already satisfied: charset-normalizer<4,>=2 in c:\\users\\dell e5490\\anaconda3\\lib\\site-packages (from requests->webdriver_manager) (2.0.4)\n",
      "Requirement already satisfied: idna<4,>=2.5 in c:\\users\\dell e5490\\anaconda3\\lib\\site-packages (from requests->webdriver_manager) (3.4)\n",
      "Requirement already satisfied: urllib3<3,>=1.21.1 in c:\\users\\dell e5490\\anaconda3\\lib\\site-packages (from requests->webdriver_manager) (1.26.16)\n",
      "Requirement already satisfied: certifi>=2017.4.17 in c:\\users\\dell e5490\\anaconda3\\lib\\site-packages (from requests->webdriver_manager) (2023.7.22)\n"
     ]
    }
   ],
   "source": [
    "!pip install selenium\n",
    "!pip install webdriver_manager"
   ]
  },
  {
   "cell_type": "code",
   "execution_count": 2,
   "metadata": {},
   "outputs": [],
   "source": [
    "import selenium\n",
    "from selenium import webdriver\n",
    "from selenium.webdriver.chrome.options import Options\n",
    "from selenium.webdriver.common.by import By\n",
    "from selenium.webdriver.common.keys import Keys\n",
    "from webdriver_manager.chrome import ChromeDriverManager\n",
    "import pandas as pd"
   ]
  },
  {
   "cell_type": "code",
   "execution_count": 3,
   "metadata": {},
   "outputs": [],
   "source": [
    "#define options and set browser capabilities\n",
    "options=webdriver.ChromeOptions()\n",
    "#options.add_argument('-----some----option')"
   ]
  },
  {
   "cell_type": "code",
   "execution_count": 4,
   "metadata": {},
   "outputs": [],
   "source": [
    "#create webdriver instance with options\n",
    "driver=webdriver.Chrome(options=options)  #For creating an empty website"
   ]
  },
  {
   "cell_type": "code",
   "execution_count": 5,
   "metadata": {},
   "outputs": [],
   "source": [
    "#navigate to a website\n",
    "driver.get('https://www.amazon.in/')"
   ]
  },
  {
   "cell_type": "code",
   "execution_count": 6,
   "metadata": {},
   "outputs": [],
   "source": [
    "search = driver.find_element(By.XPATH, \".//input[@id='twotabsearchtextbox']\")"
   ]
  },
  {
   "cell_type": "code",
   "execution_count": 7,
   "metadata": {},
   "outputs": [],
   "source": [
    "search.send_keys(\"Dell laptops\")"
   ]
  },
  {
   "cell_type": "code",
   "execution_count": 8,
   "metadata": {},
   "outputs": [],
   "source": [
    "search.send_keys(Keys.ENTER)"
   ]
  },
  {
   "cell_type": "code",
   "execution_count": 9,
   "metadata": {},
   "outputs": [
    {
     "name": "stdout",
     "output_type": "stream",
     "text": [
      "['Sponsored\\nDell 15 Laptop, Intel 12th Gen Core i3-1215U Proc/8GB DDR4/512GB SSD/Intel UHD Graphic/15.6\" (38cm) FHD Display/Spill-Resistant Keyboard/Win11+MSO\\'21/15 Month McAfee/Black/Thin & Light 1.69kg', 'Sponsored\\nDell 14 Laptop, 12th Gen Intel Core i5-1235U Processor, 16GB, 512GB, 14.0\" (35.56cm) FHD Display, Windows 11 + MSO\\'21, Spill-Resistant Keyboard, 15 Month Mcafee, Black, Thin & Light- 1.48kg', 'Dell 15 Laptop, Intel Core i5-1135G7 Processor/ 8GB/ 1TB+256GB SSD/15.6\"(39.62cm) FHD Display/Mobile Connect/Windows 11 + MSO\\'21/15 Month McAfee/Spill-Resistant Keyboard/Black/Thin & Light 1.69kg', 'Dell 15 Laptop, Intel Core i5-1135G7 Processor/ 8GB DDR4/ 512GB SSD/ 15.6\" (39.62cm) FHD/Mobile Connect/Windows 11 + MSO\\'21/15 Month McAfee/Spill-Resistant Keyboard/Carbon Black/Thin & Light-1.69kg', 'Dell 14 Laptop, 12th Gen Intel Core i5-1235U Processor, 16GB, 512GB, 14.0\" (35.56cm) FHD Display, Windows 11 + MSO\\'21, Spill-Resistant Keyboard, 15 Month Mcafee, Black, Thin & Light- 1.48kg', 'Dell 15 Laptop, Intel Core i3-1115G4 Processor/8GB DDR4/512GB SSD/Intel UHD Graphics/15.6\" (39.6cm) FHD 120Hz Refresh, 250 nits/Mobile Connect/Win 11+MSO\\'21/15 Month McAfee/Black/Thin & Light-1.66kg', 'Dell Inspiron 3530 Laptop, Intel Core i7-1355U Processor, 16GB, 512GB, 15.6\" (39.62cm) FHD WVA AG 120Hz, Backlit KB + FPR, Win 11 + MSO\\'21, 15 Month McAfee, Silver, 1.62kg', 'Dell 14 Laptop, 12th Gen Intel Core i3-1215U Processor/8GB/512GB SSD/Intel UHD Graphics/14.0\"(35.56cm) FHD/Windows 11 + MSO\\'21/15 Month McAfee/Spill-Resistant Keyboard/Grey/Thin & Light 1.48kg', 'Dell 15 Laptop, Intel 12th Gen Core i3-1215U Proc/8GB DDR4/512GB SSD/Intel UHD Graphic/15.6\" (38cm) FHD Display/Spill-Resistant Keyboard/Win11+MSO\\'21/15 Month McAfee/Black/Thin & Light 1.69kg', 'Dell Inspiron 3520 Laptop, Intel Core i5-1235U Processor, 16GB,512GB,15.6\" (39.62cm) FHD Display, Backlit Keyboard, Win 11 + MSO\\'21,15 Month McAfee, Silver, Thin & Light-1.65kg', 'Sponsored\\nLenovo ThinkBook 15 Intel 12th Gen Core i5 15.6\" (39.62cm) FHD 250 Nits Antiglare Thin and Light Laptop (8GB/512GB SSD/Windows 11 Home/Backlit/Mineral Grey/1Y Premier Support/1.7 Kg), 21DJ00EXIH', 'Sponsored\\nDell Inspiron 5430 13th Gen Laptop, Intel Core i5-1335U Processor/16GB/ 512GB SSD/14.0\" (35.56cm) FHD+/Backlit KB + FPR/Win 11 + MSO\\'2/McAfee 15 Months/Silver/Thunderbolt 4.0 Port/Thin & Light-1.59kg', 'Dell 14 Laptop, AMD Ryzen R5-5500U/ 8GB DDR4, 2400 MHz/ 512GB/ 14.0\" (35.56cm) FHD Display with Comfort View/Windows 11 + MSO\\'21/15 Month McAfee/Spill-Resistant Keyboard/Carbon Black/ 1.48kg', 'Dell G15 5520 Gaming Laptop, Intel i5-12500H, 16GB DDR5, 512GB SSD, NVIDIA RTX 3050 (4GB GDDR6), 15.6\"(39.62cm) FHD 120Hz 250 nits Display, Backlit KB Orange, Win 11 + MSO\\'21, Dark Shadow Grey, 2.81kg', 'Dell G15 5530 Gaming Laptop, Intel i7-13650HX/16GB/1TB SSD/NVIDIA RTX 3050, 6 GB GDDR6/15.6\" (39.62cm) FHD AG 120Hz 250 nits/Backlit KB RGB/Dark Shadow Grey/Win 11+MSO\\'21/15 Month McAfee/2.65kg', 'Dell Inspiron 3530 Laptop, 13th Gen Intel Core i5-1335U Processor/8GB/1TB SSD/15.6\" (39.62cm) FHD/Backlit Keyboard/Silver/Win 11 + MSO\\'21/15 Month McAfee/Thin & Light-1.66kg', 'Dell Inspiron 3530 Laptop, 13th Gen Intel Core i5-1335U Processor/16GB/1TB SSD/15.6\" (39.62cm) FHD Display/Backlit Keyboard/Platinum Silver/Win 11 + MSO\\'21/15 Month McAfee/Thin & Light- 1.66kg', 'Dell 14 Metal Body Premium Laptop, Intel Core i5-1235U Proc/16GB DDR4/512GB SSD/Intel UHD Graphics/14.0\" (35.56cm) FHD/Backlit Keyboard/Thin & Light 1.48kg/Win 11 + MSO\\'21/15 Month McAfee/Dark Silver', 'Dell G15-5520 Gaming Laptop, Intel i5-12500H/8GB DDR5/512GB SSD/Win 11 + MSO\\'21/NVIDIA RTX 3050 (4GB GDDR6)/15.6\" (39.62cm) FHD WVA AG 120Hz 250 nits/Backlit KB Orange/Dark Shadow Grey/2.81kg', 'Dell 15 Laptop, Intel Core i5-1135G7 Processor/8GB DDR4/512GB/Intel UHD Graphic/15.6\" (39.62cm) FHD/Backlit KB + FPR/Mobile Connect/Windows 11 + MSO\\'21/15 Months McAfee/Dark Silver/Thin & Light 1.69kg', 'Sponsored\\nDell Inspiron 3520 Laptop, Intel Core i5-1235U Processor, 8GB, 512GB, 15.6\" (39.62cm) FHD WVA AG 120Hz 250 nits, Win 11 + MSO\\'21, 15 Month MCAfee, Black, 1.65kg', 'Sponsored\\nDell 14 Laptop, 12th Gen Intel Core i3-1215U Processor/8GB/512GB SSD/Intel UHD Graphics/14.0\"(35.56cm) FHD/Windows 11 + MSO\\'21/15 Month McAfee/Spill-Resistant Keyboard/Grey/Thin & Light 1.48kg']\n",
      "22\n"
     ]
    }
   ],
   "source": [
    "feature=driver.find_elements(By.XPATH,\".//div[@class='a-section a-spacing-none puis-padding-right-small s-title-instructions-style']\")\n",
    "features=[i.text for i in feature]\n",
    "print(features)\n",
    "print(len(features))"
   ]
  },
  {
   "cell_type": "code",
   "execution_count": 10,
   "metadata": {},
   "outputs": [
    {
     "name": "stdout",
     "output_type": "stream",
     "text": [
      "['35,990', '49,990', '44,990', '43,990', '49,990', '33,990', '71,590', '35,990', '35,990', '53,650', '53,990', '68,990', '35,990', '71,990', '99,990', '60,890', '67,970', '55,990', '65,990', '43,990', '199', '35,990', '37,990', '79,499', '', '', '46,550', '35,990']\n",
      "28\n"
     ]
    }
   ],
   "source": [
    "price=driver.find_elements(By.XPATH,\".//span[@class='a-price-whole']\")\n",
    "prices=[i.text for i in price]\n",
    "print(prices)\n",
    "print(len(prices))"
   ]
  },
  {
   "cell_type": "code",
   "execution_count": 11,
   "metadata": {},
   "outputs": [
    {
     "name": "stdout",
     "output_type": "stream",
     "text": [
      "['', 'FREE delivery', 'Or fastest delivery', '', 'FREE delivery', 'Or fastest delivery', 'FREE delivery', 'Or fastest delivery', 'FREE delivery', 'Or fastest delivery', 'FREE delivery', 'Or fastest delivery', 'FREE delivery', 'Or fastest delivery', 'FREE delivery', 'FREE delivery', 'Or fastest delivery', 'FREE delivery', 'Or fastest delivery', 'FREE delivery', '', 'FREE delivery', 'Or fastest delivery', '', 'FREE delivery', 'Or fastest delivery', 'FREE delivery', 'Or fastest delivery', 'FREE delivery', 'Or fastest delivery', 'FREE delivery', 'Or fastest delivery', 'FREE delivery', 'Or fastest delivery', 'FREE delivery', 'Or fastest delivery', '₹66,999', 'FREE delivery', 'Or fastest delivery', 'FREE delivery', 'Or fastest delivery', 'FREE delivery', 'Or fastest delivery', '', 'with coupon', 'FREE delivery', 'on ₹499 of items fulfilled by Amazon', '', 'FREE delivery', '', 'FREE delivery', 'Or fastest delivery', 'Do something wonderful with Intel® Core™ laptops', 'AMD powered gaming laptops']\n",
      "54\n"
     ]
    }
   ],
   "source": [
    "dt=driver.find_elements(By.XPATH,\".//span[@class='a-color-base']\")\n",
    "dts=[i.text for i in dt]\n",
    "print(dts)\n",
    "print(len(dts))"
   ]
  },
  {
   "cell_type": "code",
   "execution_count": 12,
   "metadata": {},
   "outputs": [
    {
     "data": {
      "text/html": [
       "<div>\n",
       "<style scoped>\n",
       "    .dataframe tbody tr th:only-of-type {\n",
       "        vertical-align: middle;\n",
       "    }\n",
       "\n",
       "    .dataframe tbody tr th {\n",
       "        vertical-align: top;\n",
       "    }\n",
       "\n",
       "    .dataframe thead th {\n",
       "        text-align: right;\n",
       "    }\n",
       "</style>\n",
       "<table border=\"1\" class=\"dataframe\">\n",
       "  <thead>\n",
       "    <tr style=\"text-align: right;\">\n",
       "      <th></th>\n",
       "      <th>Features</th>\n",
       "      <th>Prices</th>\n",
       "      <th>Deliverytypes</th>\n",
       "    </tr>\n",
       "  </thead>\n",
       "  <tbody>\n",
       "  </tbody>\n",
       "</table>\n",
       "</div>"
      ],
      "text/plain": [
       "Empty DataFrame\n",
       "Columns: [Features, Prices, Deliverytypes]\n",
       "Index: []"
      ]
     },
     "execution_count": 12,
     "metadata": {},
     "output_type": "execute_result"
    }
   ],
   "source": [
    "df=pd.DataFrame(columns=['Features',\"Prices\",\"Deliverytypes\"])\n",
    "df"
   ]
  },
  {
   "cell_type": "code",
   "execution_count": 13,
   "metadata": {},
   "outputs": [
    {
     "data": {
      "text/html": [
       "<div>\n",
       "<style scoped>\n",
       "    .dataframe tbody tr th:only-of-type {\n",
       "        vertical-align: middle;\n",
       "    }\n",
       "\n",
       "    .dataframe tbody tr th {\n",
       "        vertical-align: top;\n",
       "    }\n",
       "\n",
       "    .dataframe thead th {\n",
       "        text-align: right;\n",
       "    }\n",
       "</style>\n",
       "<table border=\"1\" class=\"dataframe\">\n",
       "  <thead>\n",
       "    <tr style=\"text-align: right;\">\n",
       "      <th></th>\n",
       "      <th>Features</th>\n",
       "      <th>Prices</th>\n",
       "      <th>Deliverytypes</th>\n",
       "    </tr>\n",
       "  </thead>\n",
       "  <tbody>\n",
       "    <tr>\n",
       "      <th>0</th>\n",
       "      <td>Sponsored\\nDell 15 Laptop, Intel 12th Gen Core...</td>\n",
       "      <td>35,990</td>\n",
       "      <td></td>\n",
       "    </tr>\n",
       "    <tr>\n",
       "      <th>1</th>\n",
       "      <td>Sponsored\\nDell 14 Laptop, 12th Gen Intel Core...</td>\n",
       "      <td>49,990</td>\n",
       "      <td>FREE delivery</td>\n",
       "    </tr>\n",
       "    <tr>\n",
       "      <th>2</th>\n",
       "      <td>Dell 15 Laptop, Intel Core i5-1135G7 Processor...</td>\n",
       "      <td>44,990</td>\n",
       "      <td>Or fastest delivery</td>\n",
       "    </tr>\n",
       "    <tr>\n",
       "      <th>3</th>\n",
       "      <td>Dell 15 Laptop, Intel Core i5-1135G7 Processor...</td>\n",
       "      <td>43,990</td>\n",
       "      <td></td>\n",
       "    </tr>\n",
       "    <tr>\n",
       "      <th>4</th>\n",
       "      <td>Dell 14 Laptop, 12th Gen Intel Core i5-1235U P...</td>\n",
       "      <td>49,990</td>\n",
       "      <td>FREE delivery</td>\n",
       "    </tr>\n",
       "    <tr>\n",
       "      <th>5</th>\n",
       "      <td>Dell 15 Laptop, Intel Core i3-1115G4 Processor...</td>\n",
       "      <td>33,990</td>\n",
       "      <td>Or fastest delivery</td>\n",
       "    </tr>\n",
       "    <tr>\n",
       "      <th>6</th>\n",
       "      <td>Dell Inspiron 3530 Laptop, Intel Core i7-1355U...</td>\n",
       "      <td>71,590</td>\n",
       "      <td>FREE delivery</td>\n",
       "    </tr>\n",
       "    <tr>\n",
       "      <th>7</th>\n",
       "      <td>Dell 14 Laptop, 12th Gen Intel Core i3-1215U P...</td>\n",
       "      <td>35,990</td>\n",
       "      <td>Or fastest delivery</td>\n",
       "    </tr>\n",
       "    <tr>\n",
       "      <th>8</th>\n",
       "      <td>Dell 15 Laptop, Intel 12th Gen Core i3-1215U P...</td>\n",
       "      <td>35,990</td>\n",
       "      <td>FREE delivery</td>\n",
       "    </tr>\n",
       "    <tr>\n",
       "      <th>9</th>\n",
       "      <td>Dell Inspiron 3520 Laptop, Intel Core i5-1235U...</td>\n",
       "      <td>53,650</td>\n",
       "      <td>Or fastest delivery</td>\n",
       "    </tr>\n",
       "  </tbody>\n",
       "</table>\n",
       "</div>"
      ],
      "text/plain": [
       "                                            Features  Prices  \\\n",
       "0  Sponsored\\nDell 15 Laptop, Intel 12th Gen Core...  35,990   \n",
       "1  Sponsored\\nDell 14 Laptop, 12th Gen Intel Core...  49,990   \n",
       "2  Dell 15 Laptop, Intel Core i5-1135G7 Processor...  44,990   \n",
       "3  Dell 15 Laptop, Intel Core i5-1135G7 Processor...  43,990   \n",
       "4  Dell 14 Laptop, 12th Gen Intel Core i5-1235U P...  49,990   \n",
       "5  Dell 15 Laptop, Intel Core i3-1115G4 Processor...  33,990   \n",
       "6  Dell Inspiron 3530 Laptop, Intel Core i7-1355U...  71,590   \n",
       "7  Dell 14 Laptop, 12th Gen Intel Core i3-1215U P...  35,990   \n",
       "8  Dell 15 Laptop, Intel 12th Gen Core i3-1215U P...  35,990   \n",
       "9  Dell Inspiron 3520 Laptop, Intel Core i5-1235U...  53,650   \n",
       "\n",
       "         Deliverytypes  \n",
       "0                       \n",
       "1        FREE delivery  \n",
       "2  Or fastest delivery  \n",
       "3                       \n",
       "4        FREE delivery  \n",
       "5  Or fastest delivery  \n",
       "6        FREE delivery  \n",
       "7  Or fastest delivery  \n",
       "8        FREE delivery  \n",
       "9  Or fastest delivery  "
      ]
     },
     "execution_count": 13,
     "metadata": {},
     "output_type": "execute_result"
    }
   ],
   "source": [
    "df['Features']=features[0:10]\n",
    "df['Prices']=prices[0:10]\n",
    "df['Deliverytypes']=dts[0:10]\n",
    "df"
   ]
  },
  {
   "cell_type": "code",
   "execution_count": 14,
   "metadata": {},
   "outputs": [],
   "source": [
    "df.to_csv(\"Delllaptops.csv\")"
   ]
  }
 ],
 "metadata": {
  "kernelspec": {
   "display_name": "Python 3",
   "language": "python",
   "name": "python3"
  },
  "language_info": {
   "codemirror_mode": {
    "name": "ipython",
    "version": 3
   },
   "file_extension": ".py",
   "mimetype": "text/x-python",
   "name": "python",
   "nbconvert_exporter": "python",
   "pygments_lexer": "ipython3",
   "version": "3.11.5"
  }
 },
 "nbformat": 4,
 "nbformat_minor": 2
}
