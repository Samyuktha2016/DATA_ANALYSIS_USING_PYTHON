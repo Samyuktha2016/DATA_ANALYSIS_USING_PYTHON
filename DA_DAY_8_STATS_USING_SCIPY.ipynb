{
  "nbformat": 4,
  "nbformat_minor": 0,
  "metadata": {
    "colab": {
      "provenance": []
    },
    "kernelspec": {
      "name": "python3",
      "display_name": "Python 3"
    },
    "language_info": {
      "name": "python"
    }
  },
  "cells": [
    {
      "cell_type": "markdown",
      "source": [
        "# HYPOTHESIS TESTING"
      ],
      "metadata": {
        "id": "EZ0xwVPR_nd9"
      }
    },
    {
      "cell_type": "code",
      "execution_count": null,
      "metadata": {
        "id": "edEVgyCt9nk3"
      },
      "outputs": [],
      "source": [
        "#Hypothesis Testing:\n",
        "#import\n",
        "import numpy as np\n",
        "from scipy import stats"
      ]
    },
    {
      "cell_type": "code",
      "source": [
        "#two groups of Data\n",
        "data1=np.array([28,21,26,29,23])\n",
        "data2=np.array([21,27,25,28,19])\n",
        "print(data1.mean())\n",
        "print(data2.mean())"
      ],
      "metadata": {
        "colab": {
          "base_uri": "https://localhost:8080/"
        },
        "id": "u7Gp1Swz_VTP",
        "outputId": "e9c6ba3b-50a8-4acd-bd48-28a0fd6e9929"
      },
      "execution_count": null,
      "outputs": [
        {
          "output_type": "stream",
          "name": "stdout",
          "text": [
            "25.4\n",
            "24.0\n"
          ]
        }
      ]
    },
    {
      "cell_type": "code",
      "source": [
        "#perform t-test assuming unequal variances\n",
        "t_stat,p_value=stats.ttest_ind(data1,data2,equal_var=False)"
      ],
      "metadata": {
        "id": "0V3SfHOE_X4-"
      },
      "execution_count": null,
      "outputs": []
    },
    {
      "cell_type": "code",
      "source": [
        "#print the results\n",
        "print(\"T-statistics:\",t_stat)\n",
        "print(\"P-value:\",p_value)"
      ],
      "metadata": {
        "colab": {
          "base_uri": "https://localhost:8080/"
        },
        "id": "TYElLBd8_cKa",
        "outputId": "c63040de-102d-4d12-f0a0-3af8ed25cb5c"
      },
      "execution_count": null,
      "outputs": [
        {
          "output_type": "stream",
          "name": "stdout",
          "text": [
            "T-statistics: 0.6104290082757257\n",
            "P-value: 0.5588425874104368\n"
          ]
        }
      ]
    },
    {
      "cell_type": "code",
      "source": [
        "#set significant level\n",
        "#alpha value\n",
        "alpha=0.05"
      ],
      "metadata": {
        "id": "wMdhPa0o_dU0"
      },
      "execution_count": null,
      "outputs": []
    },
    {
      "cell_type": "code",
      "source": [
        "#Intrepret the results:\n",
        "if p_value<alpha:\n",
        "  print(\"Reject the null hypothesis. The means are significant\")\n",
        "else:\n",
        "    print(\"Failed to reject the null hypothesis.The means are not significant\")"
      ],
      "metadata": {
        "colab": {
          "base_uri": "https://localhost:8080/"
        },
        "id": "uAs8JjMl_gtS",
        "outputId": "7bc84bde-4315-4514-ea62-995505ffbb5c"
      },
      "execution_count": null,
      "outputs": [
        {
          "output_type": "stream",
          "name": "stdout",
          "text": [
            "Failed to reject the null hypothesis.The means are not significant\n"
          ]
        }
      ]
    },
    {
      "cell_type": "markdown",
      "source": [
        "# REGRESSION ANALYSIS"
      ],
      "metadata": {
        "id": "XwAv8fPL_tam"
      }
    },
    {
      "cell_type": "code",
      "source": [
        "import pandas as pd\n",
        "df=pd.read_csv(\"/content/Vaccine.csv\")\n",
        "df"
      ],
      "metadata": {
        "colab": {
          "base_uri": "https://localhost:8080/",
          "height": 990
        },
        "id": "G867wNAR_xFi",
        "outputId": "353f9998-3dce-40ad-96a0-4324f89f9325"
      },
      "execution_count": null,
      "outputs": [
        {
          "output_type": "execute_result",
          "data": {
            "text/plain": [
              "   Vaccine  Efficiency   Rec_Rate\n",
              "0        A   12.025883   9.605293\n",
              "1        B   12.122548  10.028289\n",
              "2        C   11.785866   9.907720\n",
              "3        C   11.921134  10.266012\n",
              "4        B   11.924151  10.067632\n",
              "5        A   11.908740  10.221654\n",
              "6        A   11.860823   9.499960\n",
              "7        C   12.177347  10.189300\n",
              "8        B   11.961676  10.402605\n",
              "9        A   11.900454  10.057798\n",
              "10       C   12.101191   9.949734\n",
              "11       A   12.005734  10.452080\n",
              "12       B   11.923879   9.960761\n",
              "13       A   11.848961   9.986264\n",
              "14       B   12.028902  10.265233\n",
              "15       C   12.062796   9.895115\n",
              "16       C   11.944396   9.845354\n",
              "17       A   11.890938   9.889413\n",
              "18       B   11.884801  10.145793\n",
              "19       B   11.867471  10.231961\n",
              "20       C   11.876209   9.674698\n",
              "21       B   11.948226  10.213221\n",
              "22       C   11.980498  10.257953\n",
              "23       A   11.998091  10.109114\n",
              "24       C   12.027991   9.961764\n",
              "25       B   12.094158   9.957994\n",
              "26       A   11.990464   9.904013\n",
              "27       C   12.030537  10.278044\n",
              "28       A   11.855906   9.756439\n",
              "29       B   11.897167  10.025968"
            ],
            "text/html": [
              "\n",
              "  <div id=\"df-d1b25b20-5db9-4e10-9312-1a86d2beabda\" class=\"colab-df-container\">\n",
              "    <div>\n",
              "<style scoped>\n",
              "    .dataframe tbody tr th:only-of-type {\n",
              "        vertical-align: middle;\n",
              "    }\n",
              "\n",
              "    .dataframe tbody tr th {\n",
              "        vertical-align: top;\n",
              "    }\n",
              "\n",
              "    .dataframe thead th {\n",
              "        text-align: right;\n",
              "    }\n",
              "</style>\n",
              "<table border=\"1\" class=\"dataframe\">\n",
              "  <thead>\n",
              "    <tr style=\"text-align: right;\">\n",
              "      <th></th>\n",
              "      <th>Vaccine</th>\n",
              "      <th>Efficiency</th>\n",
              "      <th>Rec_Rate</th>\n",
              "    </tr>\n",
              "  </thead>\n",
              "  <tbody>\n",
              "    <tr>\n",
              "      <th>0</th>\n",
              "      <td>A</td>\n",
              "      <td>12.025883</td>\n",
              "      <td>9.605293</td>\n",
              "    </tr>\n",
              "    <tr>\n",
              "      <th>1</th>\n",
              "      <td>B</td>\n",
              "      <td>12.122548</td>\n",
              "      <td>10.028289</td>\n",
              "    </tr>\n",
              "    <tr>\n",
              "      <th>2</th>\n",
              "      <td>C</td>\n",
              "      <td>11.785866</td>\n",
              "      <td>9.907720</td>\n",
              "    </tr>\n",
              "    <tr>\n",
              "      <th>3</th>\n",
              "      <td>C</td>\n",
              "      <td>11.921134</td>\n",
              "      <td>10.266012</td>\n",
              "    </tr>\n",
              "    <tr>\n",
              "      <th>4</th>\n",
              "      <td>B</td>\n",
              "      <td>11.924151</td>\n",
              "      <td>10.067632</td>\n",
              "    </tr>\n",
              "    <tr>\n",
              "      <th>5</th>\n",
              "      <td>A</td>\n",
              "      <td>11.908740</td>\n",
              "      <td>10.221654</td>\n",
              "    </tr>\n",
              "    <tr>\n",
              "      <th>6</th>\n",
              "      <td>A</td>\n",
              "      <td>11.860823</td>\n",
              "      <td>9.499960</td>\n",
              "    </tr>\n",
              "    <tr>\n",
              "      <th>7</th>\n",
              "      <td>C</td>\n",
              "      <td>12.177347</td>\n",
              "      <td>10.189300</td>\n",
              "    </tr>\n",
              "    <tr>\n",
              "      <th>8</th>\n",
              "      <td>B</td>\n",
              "      <td>11.961676</td>\n",
              "      <td>10.402605</td>\n",
              "    </tr>\n",
              "    <tr>\n",
              "      <th>9</th>\n",
              "      <td>A</td>\n",
              "      <td>11.900454</td>\n",
              "      <td>10.057798</td>\n",
              "    </tr>\n",
              "    <tr>\n",
              "      <th>10</th>\n",
              "      <td>C</td>\n",
              "      <td>12.101191</td>\n",
              "      <td>9.949734</td>\n",
              "    </tr>\n",
              "    <tr>\n",
              "      <th>11</th>\n",
              "      <td>A</td>\n",
              "      <td>12.005734</td>\n",
              "      <td>10.452080</td>\n",
              "    </tr>\n",
              "    <tr>\n",
              "      <th>12</th>\n",
              "      <td>B</td>\n",
              "      <td>11.923879</td>\n",
              "      <td>9.960761</td>\n",
              "    </tr>\n",
              "    <tr>\n",
              "      <th>13</th>\n",
              "      <td>A</td>\n",
              "      <td>11.848961</td>\n",
              "      <td>9.986264</td>\n",
              "    </tr>\n",
              "    <tr>\n",
              "      <th>14</th>\n",
              "      <td>B</td>\n",
              "      <td>12.028902</td>\n",
              "      <td>10.265233</td>\n",
              "    </tr>\n",
              "    <tr>\n",
              "      <th>15</th>\n",
              "      <td>C</td>\n",
              "      <td>12.062796</td>\n",
              "      <td>9.895115</td>\n",
              "    </tr>\n",
              "    <tr>\n",
              "      <th>16</th>\n",
              "      <td>C</td>\n",
              "      <td>11.944396</td>\n",
              "      <td>9.845354</td>\n",
              "    </tr>\n",
              "    <tr>\n",
              "      <th>17</th>\n",
              "      <td>A</td>\n",
              "      <td>11.890938</td>\n",
              "      <td>9.889413</td>\n",
              "    </tr>\n",
              "    <tr>\n",
              "      <th>18</th>\n",
              "      <td>B</td>\n",
              "      <td>11.884801</td>\n",
              "      <td>10.145793</td>\n",
              "    </tr>\n",
              "    <tr>\n",
              "      <th>19</th>\n",
              "      <td>B</td>\n",
              "      <td>11.867471</td>\n",
              "      <td>10.231961</td>\n",
              "    </tr>\n",
              "    <tr>\n",
              "      <th>20</th>\n",
              "      <td>C</td>\n",
              "      <td>11.876209</td>\n",
              "      <td>9.674698</td>\n",
              "    </tr>\n",
              "    <tr>\n",
              "      <th>21</th>\n",
              "      <td>B</td>\n",
              "      <td>11.948226</td>\n",
              "      <td>10.213221</td>\n",
              "    </tr>\n",
              "    <tr>\n",
              "      <th>22</th>\n",
              "      <td>C</td>\n",
              "      <td>11.980498</td>\n",
              "      <td>10.257953</td>\n",
              "    </tr>\n",
              "    <tr>\n",
              "      <th>23</th>\n",
              "      <td>A</td>\n",
              "      <td>11.998091</td>\n",
              "      <td>10.109114</td>\n",
              "    </tr>\n",
              "    <tr>\n",
              "      <th>24</th>\n",
              "      <td>C</td>\n",
              "      <td>12.027991</td>\n",
              "      <td>9.961764</td>\n",
              "    </tr>\n",
              "    <tr>\n",
              "      <th>25</th>\n",
              "      <td>B</td>\n",
              "      <td>12.094158</td>\n",
              "      <td>9.957994</td>\n",
              "    </tr>\n",
              "    <tr>\n",
              "      <th>26</th>\n",
              "      <td>A</td>\n",
              "      <td>11.990464</td>\n",
              "      <td>9.904013</td>\n",
              "    </tr>\n",
              "    <tr>\n",
              "      <th>27</th>\n",
              "      <td>C</td>\n",
              "      <td>12.030537</td>\n",
              "      <td>10.278044</td>\n",
              "    </tr>\n",
              "    <tr>\n",
              "      <th>28</th>\n",
              "      <td>A</td>\n",
              "      <td>11.855906</td>\n",
              "      <td>9.756439</td>\n",
              "    </tr>\n",
              "    <tr>\n",
              "      <th>29</th>\n",
              "      <td>B</td>\n",
              "      <td>11.897167</td>\n",
              "      <td>10.025968</td>\n",
              "    </tr>\n",
              "  </tbody>\n",
              "</table>\n",
              "</div>\n",
              "    <div class=\"colab-df-buttons\">\n",
              "\n",
              "  <div class=\"colab-df-container\">\n",
              "    <button class=\"colab-df-convert\" onclick=\"convertToInteractive('df-d1b25b20-5db9-4e10-9312-1a86d2beabda')\"\n",
              "            title=\"Convert this dataframe to an interactive table.\"\n",
              "            style=\"display:none;\">\n",
              "\n",
              "  <svg xmlns=\"http://www.w3.org/2000/svg\" height=\"24px\" viewBox=\"0 -960 960 960\">\n",
              "    <path d=\"M120-120v-720h720v720H120Zm60-500h600v-160H180v160Zm220 220h160v-160H400v160Zm0 220h160v-160H400v160ZM180-400h160v-160H180v160Zm440 0h160v-160H620v160ZM180-180h160v-160H180v160Zm440 0h160v-160H620v160Z\"/>\n",
              "  </svg>\n",
              "    </button>\n",
              "\n",
              "  <style>\n",
              "    .colab-df-container {\n",
              "      display:flex;\n",
              "      gap: 12px;\n",
              "    }\n",
              "\n",
              "    .colab-df-convert {\n",
              "      background-color: #E8F0FE;\n",
              "      border: none;\n",
              "      border-radius: 50%;\n",
              "      cursor: pointer;\n",
              "      display: none;\n",
              "      fill: #1967D2;\n",
              "      height: 32px;\n",
              "      padding: 0 0 0 0;\n",
              "      width: 32px;\n",
              "    }\n",
              "\n",
              "    .colab-df-convert:hover {\n",
              "      background-color: #E2EBFA;\n",
              "      box-shadow: 0px 1px 2px rgba(60, 64, 67, 0.3), 0px 1px 3px 1px rgba(60, 64, 67, 0.15);\n",
              "      fill: #174EA6;\n",
              "    }\n",
              "\n",
              "    .colab-df-buttons div {\n",
              "      margin-bottom: 4px;\n",
              "    }\n",
              "\n",
              "    [theme=dark] .colab-df-convert {\n",
              "      background-color: #3B4455;\n",
              "      fill: #D2E3FC;\n",
              "    }\n",
              "\n",
              "    [theme=dark] .colab-df-convert:hover {\n",
              "      background-color: #434B5C;\n",
              "      box-shadow: 0px 1px 3px 1px rgba(0, 0, 0, 0.15);\n",
              "      filter: drop-shadow(0px 1px 2px rgba(0, 0, 0, 0.3));\n",
              "      fill: #FFFFFF;\n",
              "    }\n",
              "  </style>\n",
              "\n",
              "    <script>\n",
              "      const buttonEl =\n",
              "        document.querySelector('#df-d1b25b20-5db9-4e10-9312-1a86d2beabda button.colab-df-convert');\n",
              "      buttonEl.style.display =\n",
              "        google.colab.kernel.accessAllowed ? 'block' : 'none';\n",
              "\n",
              "      async function convertToInteractive(key) {\n",
              "        const element = document.querySelector('#df-d1b25b20-5db9-4e10-9312-1a86d2beabda');\n",
              "        const dataTable =\n",
              "          await google.colab.kernel.invokeFunction('convertToInteractive',\n",
              "                                                    [key], {});\n",
              "        if (!dataTable) return;\n",
              "\n",
              "        const docLinkHtml = 'Like what you see? Visit the ' +\n",
              "          '<a target=\"_blank\" href=https://colab.research.google.com/notebooks/data_table.ipynb>data table notebook</a>'\n",
              "          + ' to learn more about interactive tables.';\n",
              "        element.innerHTML = '';\n",
              "        dataTable['output_type'] = 'display_data';\n",
              "        await google.colab.output.renderOutput(dataTable, element);\n",
              "        const docLink = document.createElement('div');\n",
              "        docLink.innerHTML = docLinkHtml;\n",
              "        element.appendChild(docLink);\n",
              "      }\n",
              "    </script>\n",
              "  </div>\n",
              "\n",
              "\n",
              "<div id=\"df-e69358a5-a76e-4682-a215-339c18e7f38a\">\n",
              "  <button class=\"colab-df-quickchart\" onclick=\"quickchart('df-e69358a5-a76e-4682-a215-339c18e7f38a')\"\n",
              "            title=\"Suggest charts\"\n",
              "            style=\"display:none;\">\n",
              "\n",
              "<svg xmlns=\"http://www.w3.org/2000/svg\" height=\"24px\"viewBox=\"0 0 24 24\"\n",
              "     width=\"24px\">\n",
              "    <g>\n",
              "        <path d=\"M19 3H5c-1.1 0-2 .9-2 2v14c0 1.1.9 2 2 2h14c1.1 0 2-.9 2-2V5c0-1.1-.9-2-2-2zM9 17H7v-7h2v7zm4 0h-2V7h2v10zm4 0h-2v-4h2v4z\"/>\n",
              "    </g>\n",
              "</svg>\n",
              "  </button>\n",
              "\n",
              "<style>\n",
              "  .colab-df-quickchart {\n",
              "      --bg-color: #E8F0FE;\n",
              "      --fill-color: #1967D2;\n",
              "      --hover-bg-color: #E2EBFA;\n",
              "      --hover-fill-color: #174EA6;\n",
              "      --disabled-fill-color: #AAA;\n",
              "      --disabled-bg-color: #DDD;\n",
              "  }\n",
              "\n",
              "  [theme=dark] .colab-df-quickchart {\n",
              "      --bg-color: #3B4455;\n",
              "      --fill-color: #D2E3FC;\n",
              "      --hover-bg-color: #434B5C;\n",
              "      --hover-fill-color: #FFFFFF;\n",
              "      --disabled-bg-color: #3B4455;\n",
              "      --disabled-fill-color: #666;\n",
              "  }\n",
              "\n",
              "  .colab-df-quickchart {\n",
              "    background-color: var(--bg-color);\n",
              "    border: none;\n",
              "    border-radius: 50%;\n",
              "    cursor: pointer;\n",
              "    display: none;\n",
              "    fill: var(--fill-color);\n",
              "    height: 32px;\n",
              "    padding: 0;\n",
              "    width: 32px;\n",
              "  }\n",
              "\n",
              "  .colab-df-quickchart:hover {\n",
              "    background-color: var(--hover-bg-color);\n",
              "    box-shadow: 0 1px 2px rgba(60, 64, 67, 0.3), 0 1px 3px 1px rgba(60, 64, 67, 0.15);\n",
              "    fill: var(--button-hover-fill-color);\n",
              "  }\n",
              "\n",
              "  .colab-df-quickchart-complete:disabled,\n",
              "  .colab-df-quickchart-complete:disabled:hover {\n",
              "    background-color: var(--disabled-bg-color);\n",
              "    fill: var(--disabled-fill-color);\n",
              "    box-shadow: none;\n",
              "  }\n",
              "\n",
              "  .colab-df-spinner {\n",
              "    border: 2px solid var(--fill-color);\n",
              "    border-color: transparent;\n",
              "    border-bottom-color: var(--fill-color);\n",
              "    animation:\n",
              "      spin 1s steps(1) infinite;\n",
              "  }\n",
              "\n",
              "  @keyframes spin {\n",
              "    0% {\n",
              "      border-color: transparent;\n",
              "      border-bottom-color: var(--fill-color);\n",
              "      border-left-color: var(--fill-color);\n",
              "    }\n",
              "    20% {\n",
              "      border-color: transparent;\n",
              "      border-left-color: var(--fill-color);\n",
              "      border-top-color: var(--fill-color);\n",
              "    }\n",
              "    30% {\n",
              "      border-color: transparent;\n",
              "      border-left-color: var(--fill-color);\n",
              "      border-top-color: var(--fill-color);\n",
              "      border-right-color: var(--fill-color);\n",
              "    }\n",
              "    40% {\n",
              "      border-color: transparent;\n",
              "      border-right-color: var(--fill-color);\n",
              "      border-top-color: var(--fill-color);\n",
              "    }\n",
              "    60% {\n",
              "      border-color: transparent;\n",
              "      border-right-color: var(--fill-color);\n",
              "    }\n",
              "    80% {\n",
              "      border-color: transparent;\n",
              "      border-right-color: var(--fill-color);\n",
              "      border-bottom-color: var(--fill-color);\n",
              "    }\n",
              "    90% {\n",
              "      border-color: transparent;\n",
              "      border-bottom-color: var(--fill-color);\n",
              "    }\n",
              "  }\n",
              "</style>\n",
              "\n",
              "  <script>\n",
              "    async function quickchart(key) {\n",
              "      const quickchartButtonEl =\n",
              "        document.querySelector('#' + key + ' button');\n",
              "      quickchartButtonEl.disabled = true;  // To prevent multiple clicks.\n",
              "      quickchartButtonEl.classList.add('colab-df-spinner');\n",
              "      try {\n",
              "        const charts = await google.colab.kernel.invokeFunction(\n",
              "            'suggestCharts', [key], {});\n",
              "      } catch (error) {\n",
              "        console.error('Error during call to suggestCharts:', error);\n",
              "      }\n",
              "      quickchartButtonEl.classList.remove('colab-df-spinner');\n",
              "      quickchartButtonEl.classList.add('colab-df-quickchart-complete');\n",
              "    }\n",
              "    (() => {\n",
              "      let quickchartButtonEl =\n",
              "        document.querySelector('#df-e69358a5-a76e-4682-a215-339c18e7f38a button');\n",
              "      quickchartButtonEl.style.display =\n",
              "        google.colab.kernel.accessAllowed ? 'block' : 'none';\n",
              "    })();\n",
              "  </script>\n",
              "</div>\n",
              "\n",
              "  <div id=\"id_696d2ca8-c43d-485b-8b9d-27fe9635bf38\">\n",
              "    <style>\n",
              "      .colab-df-generate {\n",
              "        background-color: #E8F0FE;\n",
              "        border: none;\n",
              "        border-radius: 50%;\n",
              "        cursor: pointer;\n",
              "        display: none;\n",
              "        fill: #1967D2;\n",
              "        height: 32px;\n",
              "        padding: 0 0 0 0;\n",
              "        width: 32px;\n",
              "      }\n",
              "\n",
              "      .colab-df-generate:hover {\n",
              "        background-color: #E2EBFA;\n",
              "        box-shadow: 0px 1px 2px rgba(60, 64, 67, 0.3), 0px 1px 3px 1px rgba(60, 64, 67, 0.15);\n",
              "        fill: #174EA6;\n",
              "      }\n",
              "\n",
              "      [theme=dark] .colab-df-generate {\n",
              "        background-color: #3B4455;\n",
              "        fill: #D2E3FC;\n",
              "      }\n",
              "\n",
              "      [theme=dark] .colab-df-generate:hover {\n",
              "        background-color: #434B5C;\n",
              "        box-shadow: 0px 1px 3px 1px rgba(0, 0, 0, 0.15);\n",
              "        filter: drop-shadow(0px 1px 2px rgba(0, 0, 0, 0.3));\n",
              "        fill: #FFFFFF;\n",
              "      }\n",
              "    </style>\n",
              "    <button class=\"colab-df-generate\" onclick=\"generateWithVariable('df')\"\n",
              "            title=\"Generate code using this dataframe.\"\n",
              "            style=\"display:none;\">\n",
              "\n",
              "  <svg xmlns=\"http://www.w3.org/2000/svg\" height=\"24px\"viewBox=\"0 0 24 24\"\n",
              "       width=\"24px\">\n",
              "    <path d=\"M7,19H8.4L18.45,9,17,7.55,7,17.6ZM5,21V16.75L18.45,3.32a2,2,0,0,1,2.83,0l1.4,1.43a1.91,1.91,0,0,1,.58,1.4,1.91,1.91,0,0,1-.58,1.4L9.25,21ZM18.45,9,17,7.55Zm-12,3A5.31,5.31,0,0,0,4.9,8.1,5.31,5.31,0,0,0,1,6.5,5.31,5.31,0,0,0,4.9,4.9,5.31,5.31,0,0,0,6.5,1,5.31,5.31,0,0,0,8.1,4.9,5.31,5.31,0,0,0,12,6.5,5.46,5.46,0,0,0,6.5,12Z\"/>\n",
              "  </svg>\n",
              "    </button>\n",
              "    <script>\n",
              "      (() => {\n",
              "      const buttonEl =\n",
              "        document.querySelector('#id_696d2ca8-c43d-485b-8b9d-27fe9635bf38 button.colab-df-generate');\n",
              "      buttonEl.style.display =\n",
              "        google.colab.kernel.accessAllowed ? 'block' : 'none';\n",
              "\n",
              "      buttonEl.onclick = () => {\n",
              "        google.colab.notebook.generateWithVariable('df');\n",
              "      }\n",
              "      })();\n",
              "    </script>\n",
              "  </div>\n",
              "\n",
              "    </div>\n",
              "  </div>\n"
            ],
            "application/vnd.google.colaboratory.intrinsic+json": {
              "type": "dataframe",
              "variable_name": "df",
              "summary": "{\n  \"name\": \"df\",\n  \"rows\": 30,\n  \"fields\": [\n    {\n      \"column\": \"Vaccine\",\n      \"properties\": {\n        \"dtype\": \"category\",\n        \"num_unique_values\": 3,\n        \"samples\": [\n          \"A\",\n          \"B\",\n          \"C\"\n        ],\n        \"semantic_type\": \"\",\n        \"description\": \"\"\n      }\n    },\n    {\n      \"column\": \"Efficiency\",\n      \"properties\": {\n        \"dtype\": \"number\",\n        \"std\": 0.09277390384081255,\n        \"min\": 11.78586593636872,\n        \"max\": 12.1773469310999,\n        \"num_unique_values\": 30,\n        \"samples\": [\n          12.030537155723836,\n          12.062796176583795,\n          11.998091260793943\n        ],\n        \"semantic_type\": \"\",\n        \"description\": \"\"\n      }\n    },\n    {\n      \"column\": \"Rec_Rate\",\n      \"properties\": {\n        \"dtype\": \"number\",\n        \"std\": 0.22649737611103102,\n        \"min\": 9.49996036545115,\n        \"max\": 10.45208048291265,\n        \"num_unique_values\": 30,\n        \"samples\": [\n          10.278043635784803,\n          9.895115145507143,\n          10.109114209989029\n        ],\n        \"semantic_type\": \"\",\n        \"description\": \"\"\n      }\n    }\n  ]\n}"
            }
          },
          "metadata": {},
          "execution_count": 7
        }
      ]
    },
    {
      "cell_type": "code",
      "source": [
        "a=df['Efficiency'].mean()\n",
        "print(\"Mean Efficiency\")\n",
        "b=df['Rec_Rate'].mean()\n",
        "print(\"Mean Rec_Rate\")\n",
        "print(\"t-Val\",t_stat)\n",
        "print(\"P-val\",p_value)"
      ],
      "metadata": {
        "colab": {
          "base_uri": "https://localhost:8080/"
        },
        "id": "ypk3WE3pBjxo",
        "outputId": "f2c93002-b6ee-432b-e1c2-35b103241b20"
      },
      "execution_count": null,
      "outputs": [
        {
          "output_type": "stream",
          "name": "stdout",
          "text": [
            "Mean Efficiency\n",
            "Mean Rec_Rate\n",
            "t-Val 0.6104290082757257\n",
            "P-val 0.5588425874104368\n"
          ]
        }
      ]
    },
    {
      "cell_type": "code",
      "source": [
        "a=df[\"Efficiency\"].mean()\n",
        "print(\"mean efficiency\",a)\n",
        "b=df[\"Rec_Rate\"].mean()\n",
        "print(\"mean rc_rate\",b)\n",
        "data1=df[\"Efficiency\"]\n",
        "data2=df['Rec_Rate']\n",
        "t_stat,p_value=stats.ttest_ind(data1,data2,equal_var=False)\n",
        "print(t_stat)\n",
        "print(p_value)"
      ],
      "metadata": {
        "colab": {
          "base_uri": "https://localhost:8080/"
        },
        "id": "OxyEsyFiBopk",
        "outputId": "e6b53eab-3e36-432f-8d87-873ad3427614"
      },
      "execution_count": null,
      "outputs": [
        {
          "output_type": "stream",
          "name": "stdout",
          "text": [
            "mean efficiency 11.961564514213565\n",
            "mean rc_rate 10.033572680447492\n",
            "43.144276880141796\n",
            "3.4493842608099316e-34\n"
          ]
        }
      ]
    },
    {
      "cell_type": "code",
      "source": [
        "alpha=0.05"
      ],
      "metadata": {
        "id": "Q3lDMEmsBp59"
      },
      "execution_count": null,
      "outputs": []
    },
    {
      "cell_type": "code",
      "source": [
        "if p_value>alpha:\n",
        "  print(\"H0-related\")\n",
        "else:\n",
        "  print(\"H1-related\")"
      ],
      "metadata": {
        "colab": {
          "base_uri": "https://localhost:8080/"
        },
        "id": "_oDSndGcBs1S",
        "outputId": "53c3065a-0bc9-4a2f-e987-aba9b05c86e1"
      },
      "execution_count": null,
      "outputs": [
        {
          "output_type": "stream",
          "name": "stdout",
          "text": [
            "H1-related\n"
          ]
        }
      ]
    },
    {
      "cell_type": "code",
      "source": [
        "#interpret the results\n",
        "if p_value<alpha:\n",
        "  print(\"H0 is related/not different\")\n",
        "else:\n",
        "  print(\"H1 is not related/significantly different\")"
      ],
      "metadata": {
        "colab": {
          "base_uri": "https://localhost:8080/"
        },
        "id": "igyQUk6zBv2m",
        "outputId": "9e6ce5d4-faa5-4087-e716-2fa9c6ae89e5"
      },
      "execution_count": null,
      "outputs": [
        {
          "output_type": "stream",
          "name": "stdout",
          "text": [
            "H0 is related/not different\n"
          ]
        }
      ]
    },
    {
      "cell_type": "markdown",
      "source": [
        "# Anova(one-way Anova) means-f testing"
      ],
      "metadata": {
        "id": "uA298BxDB2-6"
      }
    },
    {
      "cell_type": "code",
      "source": [
        "dfA=df[df['Vaccine']=='A']['Efficiency']\n",
        "dfB=df[df['Vaccine']=='B']['Efficiency']\n",
        "dfA"
      ],
      "metadata": {
        "colab": {
          "base_uri": "https://localhost:8080/"
        },
        "id": "A4sy2TeyByw5",
        "outputId": "50efd33f-2386-46f9-e5f0-d89c4183bb0d"
      },
      "execution_count": null,
      "outputs": [
        {
          "output_type": "execute_result",
          "data": {
            "text/plain": [
              "0     12.025883\n",
              "5     11.908740\n",
              "6     11.860823\n",
              "9     11.900454\n",
              "11    12.005734\n",
              "13    11.848961\n",
              "17    11.890938\n",
              "23    11.998091\n",
              "26    11.990464\n",
              "28    11.855906\n",
              "Name: Efficiency, dtype: float64"
            ]
          },
          "metadata": {},
          "execution_count": 13
        }
      ]
    },
    {
      "cell_type": "code",
      "source": [
        "f_stat,p_value=stats.f_oneway(dfA,dfB)\n",
        "print(\"F-statistic:\",f_stat)\n",
        "print(\"p-value:\",p_value)"
      ],
      "metadata": {
        "colab": {
          "base_uri": "https://localhost:8080/"
        },
        "id": "l1kIeol2CDqK",
        "outputId": "b57c3968-6638-43d9-bbd9-36bb3b4d37cb"
      },
      "execution_count": null,
      "outputs": [
        {
          "output_type": "stream",
          "name": "stdout",
          "text": [
            "F-statistic: 1.0757234023273485\n",
            "p-value: 0.3133894618484353\n"
          ]
        }
      ]
    },
    {
      "cell_type": "code",
      "source": [
        "f_stat,p_value=stats.f_oneway(dfA,dfB)\n",
        "print(\"F-statistics:\",f_stat)\n",
        "print(\"p-value:\",p_value)\n",
        "alpha=0.05"
      ],
      "metadata": {
        "colab": {
          "base_uri": "https://localhost:8080/"
        },
        "id": "xC5R7S3rCL9u",
        "outputId": "455809b9-3169-4185-cb47-2dbe127afea1"
      },
      "execution_count": null,
      "outputs": [
        {
          "output_type": "stream",
          "name": "stdout",
          "text": [
            "F-statistics: 1.0757234023273485\n",
            "p-value: 0.3133894618484353\n"
          ]
        }
      ]
    },
    {
      "cell_type": "code",
      "source": [
        "if p_value < alpha:\n",
        "  print(\"H0 is related\")\n",
        "else:\n",
        "  print(\"H1 is not related\")"
      ],
      "metadata": {
        "colab": {
          "base_uri": "https://localhost:8080/"
        },
        "id": "gY0rDcpzCNRw",
        "outputId": "a893cf34-e15d-4a52-fc50-0d6b60b8f8c8"
      },
      "execution_count": null,
      "outputs": [
        {
          "output_type": "stream",
          "name": "stdout",
          "text": [
            "H1 is not related\n"
          ]
        }
      ]
    },
    {
      "cell_type": "markdown",
      "source": [
        "# Interpolation"
      ],
      "metadata": {
        "id": "HGAX744RCVfi"
      }
    },
    {
      "cell_type": "code",
      "source": [
        "from scipy import interpolate\n",
        "#Interpolation\n",
        "x_data=np.array([0,1,2,3,4])\n",
        "y_data=np.array([0,2,1,3,5])\n",
        "interp_func=interpolate.interp1d(x_data,y_data,kind='linear')\n",
        "interp_result=interp_func(2.5)\n",
        "print(\"Interpolation Result:\",interp_result)"
      ],
      "metadata": {
        "colab": {
          "base_uri": "https://localhost:8080/"
        },
        "id": "iKPkfISSCSbH",
        "outputId": "14031be9-6806-4ec4-b856-68a2053c3bd9"
      },
      "execution_count": null,
      "outputs": [
        {
          "output_type": "stream",
          "name": "stdout",
          "text": [
            "Interpolation Result: 2.0\n"
          ]
        }
      ]
    }
  ]
}