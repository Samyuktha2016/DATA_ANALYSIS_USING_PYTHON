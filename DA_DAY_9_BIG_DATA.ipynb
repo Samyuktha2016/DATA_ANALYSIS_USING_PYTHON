{
  "nbformat": 4,
  "nbformat_minor": 0,
  "metadata": {
    "colab": {
      "provenance": []
    },
    "kernelspec": {
      "name": "python3",
      "display_name": "Python 3"
    },
    "language_info": {
      "name": "python"
    }
  },
  "cells": [
    {
      "cell_type": "markdown",
      "source": [
        "# Pyspark"
      ],
      "metadata": {
        "id": "Qc5jncw1JHMa"
      }
    },
    {
      "cell_type": "code",
      "execution_count": null,
      "metadata": {
        "colab": {
          "base_uri": "https://localhost:8080/"
        },
        "id": "MohSPoszCvjy",
        "outputId": "cb002cda-d090-4d27-b847-97a5f976a89e"
      },
      "outputs": [
        {
          "output_type": "stream",
          "name": "stdout",
          "text": [
            "Collecting pyspark==3.03\n",
            "  Downloading pyspark-3.3.0.tar.gz (281.3 MB)\n",
            "\u001b[2K     \u001b[90m━━━━━━━━━━━━━━━━━━━━━━━━━━━━━━━━━━━━━━━━\u001b[0m \u001b[32m281.3/281.3 MB\u001b[0m \u001b[31m2.2 MB/s\u001b[0m eta \u001b[36m0:00:00\u001b[0m\n",
            "\u001b[?25h  Preparing metadata (setup.py) ... \u001b[?25l\u001b[?25hdone\n",
            "Collecting py4j==0.10.9.5 (from pyspark==3.03)\n",
            "  Downloading py4j-0.10.9.5-py2.py3-none-any.whl (199 kB)\n",
            "\u001b[2K     \u001b[90m━━━━━━━━━━━━━━━━━━━━━━━━━━━━━━━━━━━━━━━━\u001b[0m \u001b[32m199.7/199.7 kB\u001b[0m \u001b[31m30.1 MB/s\u001b[0m eta \u001b[36m0:00:00\u001b[0m\n",
            "\u001b[?25hBuilding wheels for collected packages: pyspark\n",
            "  Building wheel for pyspark (setup.py) ... \u001b[?25l\u001b[?25hdone\n",
            "  Created wheel for pyspark: filename=pyspark-3.3.0-py2.py3-none-any.whl size=281764004 sha256=a26bc44b2239896176a0b644010bf1e4a69a3805d73b3aefe4225ea94b496375\n",
            "  Stored in directory: /root/.cache/pip/wheels/81/9c/6c/d5200fcf351ffa39cbe09911e99703283624cd037df58070d9\n",
            "Successfully built pyspark\n",
            "Installing collected packages: py4j, pyspark\n",
            "  Attempting uninstall: py4j\n",
            "    Found existing installation: py4j 0.10.9.7\n",
            "    Uninstalling py4j-0.10.9.7:\n",
            "      Successfully uninstalled py4j-0.10.9.7\n",
            "Successfully installed py4j-0.10.9.5 pyspark-3.3.0\n"
          ]
        }
      ],
      "source": [
        "#Install Apache spark 3.0.3 (internally it will take as 2.7)with Hadoop 2.7\n",
        "!pip install pyspark==3.03"
      ]
    },
    {
      "cell_type": "code",
      "source": [
        "#Import Sparksession from pyspark\n",
        "from pyspark.sql import SparkSession\n",
        "from pyspark.sql.functions import avg\n",
        "\n",
        "#create a sparksession  #job\n",
        "spark=SparkSession.builder \\\n",
        "   .appName(\"DistributedComputingExample\") \\\n",
        "   .getOrCreate()"
      ],
      "metadata": {
        "id": "lFU0Y132JTb6"
      },
      "execution_count": null,
      "outputs": []
    },
    {
      "cell_type": "code",
      "source": [
        "#load the data from CSV file\n",
        "file_path=\"/content/diabetcsv.csv\"\n",
        "#loading file\n",
        "df=spark.read.csv(file_path,header=True,inferSchema=True)   #taking metadata\n",
        "#show the dataframe\n",
        "df.show()"
      ],
      "metadata": {
        "colab": {
          "base_uri": "https://localhost:8080/"
        },
        "id": "C3PZknwIJcNx",
        "outputId": "cd3738fb-9428-4d3f-ce9d-cf41728490e6"
      },
      "execution_count": null,
      "outputs": [
        {
          "output_type": "stream",
          "name": "stdout",
          "text": [
            "+----+----+----+----+----+----+-----+---+---------------+\n",
            "|preg|plas|pres|skin|insu|mass| pedi|age|          class|\n",
            "+----+----+----+----+----+----+-----+---+---------------+\n",
            "|   6| 148|  72|  35|   0|33.6|0.627| 50|tested_positive|\n",
            "|   1|  85|  66|  29|   0|26.6|0.351| 31|tested_negative|\n",
            "|   8| 183|  64|   0|   0|23.3|0.672| 32|tested_positive|\n",
            "|   1|  89|  66|  23|  94|28.1|0.167| 21|tested_negative|\n",
            "|   0| 137|  40|  35| 168|43.1|2.288| 33|tested_positive|\n",
            "|   5| 116|  74|   0|   0|25.6|0.201| 30|tested_negative|\n",
            "|   3|  78|  50|  32|  88|31.0|0.248| 26|tested_positive|\n",
            "|  10| 115|   0|   0|   0|35.3|0.134| 29|tested_negative|\n",
            "|   2| 197|  70|  45| 543|30.5|0.158| 53|tested_positive|\n",
            "|   8| 125|  96|   0|   0| 0.0|0.232| 54|tested_positive|\n",
            "|   4| 110|  92|   0|   0|37.6|0.191| 30|tested_negative|\n",
            "|  10| 168|  74|   0|   0|38.0|0.537| 34|tested_positive|\n",
            "|  10| 139|  80|   0|   0|27.1|1.441| 57|tested_negative|\n",
            "|   1| 189|  60|  23| 846|30.1|0.398| 59|tested_positive|\n",
            "|   5| 166|  72|  19| 175|25.8|0.587| 51|tested_positive|\n",
            "|   7| 100|   0|   0|   0|30.0|0.484| 32|tested_positive|\n",
            "|   0| 118|  84|  47| 230|45.8|0.551| 31|tested_positive|\n",
            "|   7| 107|  74|   0|   0|29.6|0.254| 31|tested_positive|\n",
            "|   1| 103|  30|  38|  83|43.3|0.183| 33|tested_negative|\n",
            "|   1| 115|  70|  30|  96|34.6|0.529| 32|tested_positive|\n",
            "+----+----+----+----+----+----+-----+---+---------------+\n",
            "only showing top 20 rows\n",
            "\n"
          ]
        }
      ]
    },
    {
      "cell_type": "code",
      "source": [
        "#calculate mean mass per age group\n",
        "mean_mass_per_age_group=df.groupBy(\"age\").agg(avg(\"mass\").alias(\"Mean_Mass\"))\n",
        "\n",
        "#show the mean_mass per age group\n",
        "mean_mass_per_age_group.show()\n",
        "df.show()"
      ],
      "metadata": {
        "colab": {
          "base_uri": "https://localhost:8080/"
        },
        "id": "tk9YSciSJ8m2",
        "outputId": "69112268-f6c5-43ec-f605-d7df6ca64599"
      },
      "execution_count": null,
      "outputs": [
        {
          "output_type": "stream",
          "name": "stdout",
          "text": [
            "+---+------------------+\n",
            "|age|         Mean_Mass|\n",
            "+---+------------------+\n",
            "| 31| 34.01666666666666|\n",
            "| 65|31.600000000000005|\n",
            "| 53|30.500000000000007|\n",
            "| 34|31.164285714285715|\n",
            "| 81|              25.9|\n",
            "| 28|33.642857142857146|\n",
            "| 26|34.915151515151514|\n",
            "| 27|31.949999999999992|\n",
            "| 44|           34.1625|\n",
            "| 22| 29.50972222222222|\n",
            "| 47| 34.56666666666667|\n",
            "| 52|            33.475|\n",
            "| 40| 33.53846153846154|\n",
            "| 57|              29.7|\n",
            "| 54|30.799999999999997|\n",
            "| 48|29.979999999999997|\n",
            "| 64|              25.0|\n",
            "| 41|  35.2590909090909|\n",
            "| 43|36.892307692307696|\n",
            "| 37|32.078947368421055|\n",
            "+---+------------------+\n",
            "only showing top 20 rows\n",
            "\n",
            "+----+----+----+----+----+----+-----+---+---------------+\n",
            "|preg|plas|pres|skin|insu|mass| pedi|age|          class|\n",
            "+----+----+----+----+----+----+-----+---+---------------+\n",
            "|   6| 148|  72|  35|   0|33.6|0.627| 50|tested_positive|\n",
            "|   1|  85|  66|  29|   0|26.6|0.351| 31|tested_negative|\n",
            "|   8| 183|  64|   0|   0|23.3|0.672| 32|tested_positive|\n",
            "|   1|  89|  66|  23|  94|28.1|0.167| 21|tested_negative|\n",
            "|   0| 137|  40|  35| 168|43.1|2.288| 33|tested_positive|\n",
            "|   5| 116|  74|   0|   0|25.6|0.201| 30|tested_negative|\n",
            "|   3|  78|  50|  32|  88|31.0|0.248| 26|tested_positive|\n",
            "|  10| 115|   0|   0|   0|35.3|0.134| 29|tested_negative|\n",
            "|   2| 197|  70|  45| 543|30.5|0.158| 53|tested_positive|\n",
            "|   8| 125|  96|   0|   0| 0.0|0.232| 54|tested_positive|\n",
            "|   4| 110|  92|   0|   0|37.6|0.191| 30|tested_negative|\n",
            "|  10| 168|  74|   0|   0|38.0|0.537| 34|tested_positive|\n",
            "|  10| 139|  80|   0|   0|27.1|1.441| 57|tested_negative|\n",
            "|   1| 189|  60|  23| 846|30.1|0.398| 59|tested_positive|\n",
            "|   5| 166|  72|  19| 175|25.8|0.587| 51|tested_positive|\n",
            "|   7| 100|   0|   0|   0|30.0|0.484| 32|tested_positive|\n",
            "|   0| 118|  84|  47| 230|45.8|0.551| 31|tested_positive|\n",
            "|   7| 107|  74|   0|   0|29.6|0.254| 31|tested_positive|\n",
            "|   1| 103|  30|  38|  83|43.3|0.183| 33|tested_negative|\n",
            "|   1| 115|  70|  30|  96|34.6|0.529| 32|tested_positive|\n",
            "+----+----+----+----+----+----+-----+---+---------------+\n",
            "only showing top 20 rows\n",
            "\n"
          ]
        }
      ]
    },
    {
      "cell_type": "code",
      "source": [
        "#Calculate mean mass per age group\n",
        "mean_pres_per_age_group=df.groupBy(\"age\").agg(avg(\"pres\").alias(\"Mean_pres\"))\n",
        "#show the mean pres per the age\n",
        "mean_pres_per_age_group.show()\n",
        "df.show()\n",
        "#stop the SparkSession\n",
        "spark.stop()"
      ],
      "metadata": {
        "colab": {
          "base_uri": "https://localhost:8080/"
        },
        "id": "KW7rC845KJ3z",
        "outputId": "da19cf98-9213-42d5-81b8-4c3db835271a"
      },
      "execution_count": null,
      "outputs": [
        {
          "output_type": "stream",
          "name": "stdout",
          "text": [
            "+---+-----------------+\n",
            "|age|        Mean_pres|\n",
            "+---+-----------------+\n",
            "| 31|           64.375|\n",
            "| 65|78.66666666666667|\n",
            "| 53|             79.0|\n",
            "| 34|             74.0|\n",
            "| 81|             74.0|\n",
            "| 28|68.31428571428572|\n",
            "| 26|64.18181818181819|\n",
            "| 27|             73.5|\n",
            "| 44|            61.75|\n",
            "| 22|63.72222222222222|\n",
            "| 47|78.33333333333333|\n",
            "| 52|             81.5|\n",
            "| 40|69.23076923076923|\n",
            "| 57|             76.8|\n",
            "| 54|89.33333333333333|\n",
            "| 48|             78.4|\n",
            "| 64|             78.0|\n",
            "| 41| 67.5909090909091|\n",
            "| 43|78.46153846153847|\n",
            "| 37|75.94736842105263|\n",
            "+---+-----------------+\n",
            "only showing top 20 rows\n",
            "\n",
            "+----+----+----+----+----+----+-----+---+---------------+\n",
            "|preg|plas|pres|skin|insu|mass| pedi|age|          class|\n",
            "+----+----+----+----+----+----+-----+---+---------------+\n",
            "|   6| 148|  72|  35|   0|33.6|0.627| 50|tested_positive|\n",
            "|   1|  85|  66|  29|   0|26.6|0.351| 31|tested_negative|\n",
            "|   8| 183|  64|   0|   0|23.3|0.672| 32|tested_positive|\n",
            "|   1|  89|  66|  23|  94|28.1|0.167| 21|tested_negative|\n",
            "|   0| 137|  40|  35| 168|43.1|2.288| 33|tested_positive|\n",
            "|   5| 116|  74|   0|   0|25.6|0.201| 30|tested_negative|\n",
            "|   3|  78|  50|  32|  88|31.0|0.248| 26|tested_positive|\n",
            "|  10| 115|   0|   0|   0|35.3|0.134| 29|tested_negative|\n",
            "|   2| 197|  70|  45| 543|30.5|0.158| 53|tested_positive|\n",
            "|   8| 125|  96|   0|   0| 0.0|0.232| 54|tested_positive|\n",
            "|   4| 110|  92|   0|   0|37.6|0.191| 30|tested_negative|\n",
            "|  10| 168|  74|   0|   0|38.0|0.537| 34|tested_positive|\n",
            "|  10| 139|  80|   0|   0|27.1|1.441| 57|tested_negative|\n",
            "|   1| 189|  60|  23| 846|30.1|0.398| 59|tested_positive|\n",
            "|   5| 166|  72|  19| 175|25.8|0.587| 51|tested_positive|\n",
            "|   7| 100|   0|   0|   0|30.0|0.484| 32|tested_positive|\n",
            "|   0| 118|  84|  47| 230|45.8|0.551| 31|tested_positive|\n",
            "|   7| 107|  74|   0|   0|29.6|0.254| 31|tested_positive|\n",
            "|   1| 103|  30|  38|  83|43.3|0.183| 33|tested_negative|\n",
            "|   1| 115|  70|  30|  96|34.6|0.529| 32|tested_positive|\n",
            "+----+----+----+----+----+----+-----+---+---------------+\n",
            "only showing top 20 rows\n",
            "\n"
          ]
        }
      ]
    },
    {
      "cell_type": "code",
      "source": [
        "#stop the SparkSession\n",
        "spark.stop()"
      ],
      "metadata": {
        "id": "CmifGLhwKLI_"
      },
      "execution_count": null,
      "outputs": []
    }
  ]
}